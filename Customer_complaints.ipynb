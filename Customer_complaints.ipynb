{
 "cells": [
  {
   "cell_type": "code",
   "execution_count": 148,
   "id": "181cca84",
   "metadata": {},
   "outputs": [],
   "source": [
    "import numpy as np\n",
    "import pandas as pd \n",
    "import matplotlib.pyplot as plt\n",
    "import seaborn as sns\n",
    "import re\n",
    "import nltk\n",
    "from nltk.corpus import stopwords\n",
    "from nltk.stem import PorterStemmer,WordNetLemmatizer\n",
    "from sklearn.feature_extraction.text import TfidfVectorizer\n",
    "from sklearn.feature_selection import chi2\n",
    "from IPython.display import display\n",
    "from sklearn.model_selection import train_test_split\n",
    "from sklearn.feature_extraction.text import TfidfTransformer\n",
    "from sklearn.naive_bayes import MultinomialNB\n",
    "from sklearn.linear_model import LogisticRegression\n",
    "from sklearn.ensemble import RandomForestClassifier\n",
    "from sklearn.svm import LinearSVC\n",
    "import lightgbm as lgb\n",
    "from sklearn.model_selection import GridSearchCV\n",
    "from sklearn.model_selection import cross_val_score\n",
    "from sklearn import metrics\n",
    "import pickle\n",
    "import tensorflow as tensor\n",
    "from tensorflow.keras import optimizers\n",
    "import warnings\n",
    "warnings.filterwarnings(\"ignore\")\n"
   ]
  },
  {
   "cell_type": "code",
   "execution_count": 2,
   "id": "975e1a50",
   "metadata": {},
   "outputs": [
    {
     "data": {
      "text/html": [
       "<div>\n",
       "<style scoped>\n",
       "    .dataframe tbody tr th:only-of-type {\n",
       "        vertical-align: middle;\n",
       "    }\n",
       "\n",
       "    .dataframe tbody tr th {\n",
       "        vertical-align: top;\n",
       "    }\n",
       "\n",
       "    .dataframe thead th {\n",
       "        text-align: right;\n",
       "    }\n",
       "</style>\n",
       "<table border=\"1\" class=\"dataframe\">\n",
       "  <thead>\n",
       "    <tr style=\"text-align: right;\">\n",
       "      <th></th>\n",
       "      <th>Date received</th>\n",
       "      <th>Product</th>\n",
       "      <th>Sub-product</th>\n",
       "      <th>Issue</th>\n",
       "      <th>Sub-issue</th>\n",
       "      <th>Consumer complaint narrative</th>\n",
       "      <th>Company public response</th>\n",
       "      <th>Company</th>\n",
       "      <th>State</th>\n",
       "      <th>ZIP code</th>\n",
       "      <th>Tags</th>\n",
       "      <th>Consumer consent provided?</th>\n",
       "      <th>Submitted via</th>\n",
       "      <th>Date sent to company</th>\n",
       "      <th>Company response to consumer</th>\n",
       "      <th>Timely response?</th>\n",
       "      <th>Consumer disputed?</th>\n",
       "      <th>Complaint ID</th>\n",
       "    </tr>\n",
       "  </thead>\n",
       "  <tbody>\n",
       "    <tr>\n",
       "      <th>0</th>\n",
       "      <td>2023-07-26</td>\n",
       "      <td>Credit reporting, credit repair services, or o...</td>\n",
       "      <td>Credit reporting</td>\n",
       "      <td>Problem with a credit reporting company's inve...</td>\n",
       "      <td>Investigation took more than 30 days</td>\n",
       "      <td>NaN</td>\n",
       "      <td>NaN</td>\n",
       "      <td>TRANSUNION INTERMEDIATE HOLDINGS, INC.</td>\n",
       "      <td>FL</td>\n",
       "      <td>33311</td>\n",
       "      <td>NaN</td>\n",
       "      <td>NaN</td>\n",
       "      <td>Web</td>\n",
       "      <td>2023-07-26</td>\n",
       "      <td>In progress</td>\n",
       "      <td>Yes</td>\n",
       "      <td>NaN</td>\n",
       "      <td>7304973</td>\n",
       "    </tr>\n",
       "    <tr>\n",
       "      <th>1</th>\n",
       "      <td>2023-07-26</td>\n",
       "      <td>Payday loan, title loan, or personal loan</td>\n",
       "      <td>Title loan</td>\n",
       "      <td>Charged fees or interest you didn't expect</td>\n",
       "      <td>NaN</td>\n",
       "      <td>NaN</td>\n",
       "      <td>NaN</td>\n",
       "      <td>DFC Global Corp.</td>\n",
       "      <td>CA</td>\n",
       "      <td>92517</td>\n",
       "      <td>NaN</td>\n",
       "      <td>NaN</td>\n",
       "      <td>Web</td>\n",
       "      <td>2023-07-26</td>\n",
       "      <td>In progress</td>\n",
       "      <td>Yes</td>\n",
       "      <td>NaN</td>\n",
       "      <td>7299736</td>\n",
       "    </tr>\n",
       "    <tr>\n",
       "      <th>2</th>\n",
       "      <td>2023-07-25</td>\n",
       "      <td>Checking or savings account</td>\n",
       "      <td>Checking account</td>\n",
       "      <td>Managing an account</td>\n",
       "      <td>Banking errors</td>\n",
       "      <td>NaN</td>\n",
       "      <td>NaN</td>\n",
       "      <td>NAVY FEDERAL CREDIT UNION</td>\n",
       "      <td>CA</td>\n",
       "      <td>90008</td>\n",
       "      <td>NaN</td>\n",
       "      <td>NaN</td>\n",
       "      <td>Phone</td>\n",
       "      <td>2023-07-25</td>\n",
       "      <td>In progress</td>\n",
       "      <td>Yes</td>\n",
       "      <td>NaN</td>\n",
       "      <td>7300424</td>\n",
       "    </tr>\n",
       "    <tr>\n",
       "      <th>3</th>\n",
       "      <td>2023-07-25</td>\n",
       "      <td>Checking or savings account</td>\n",
       "      <td>Checking account</td>\n",
       "      <td>Problem with a lender or other company chargin...</td>\n",
       "      <td>Transaction was not authorized</td>\n",
       "      <td>NaN</td>\n",
       "      <td>NaN</td>\n",
       "      <td>NAVY FEDERAL CREDIT UNION</td>\n",
       "      <td>PA</td>\n",
       "      <td>19120</td>\n",
       "      <td>NaN</td>\n",
       "      <td>NaN</td>\n",
       "      <td>Referral</td>\n",
       "      <td>2023-07-25</td>\n",
       "      <td>In progress</td>\n",
       "      <td>Yes</td>\n",
       "      <td>NaN</td>\n",
       "      <td>7302242</td>\n",
       "    </tr>\n",
       "    <tr>\n",
       "      <th>4</th>\n",
       "      <td>2023-07-25</td>\n",
       "      <td>Credit card or prepaid card</td>\n",
       "      <td>General-purpose credit card or charge card</td>\n",
       "      <td>Problem with a purchase shown on your statement</td>\n",
       "      <td>Credit card company isn't resolving a dispute ...</td>\n",
       "      <td>NaN</td>\n",
       "      <td>NaN</td>\n",
       "      <td>NAVY FEDERAL CREDIT UNION</td>\n",
       "      <td>WA</td>\n",
       "      <td>98520</td>\n",
       "      <td>NaN</td>\n",
       "      <td>NaN</td>\n",
       "      <td>Web</td>\n",
       "      <td>2023-07-25</td>\n",
       "      <td>In progress</td>\n",
       "      <td>Yes</td>\n",
       "      <td>NaN</td>\n",
       "      <td>7301655</td>\n",
       "    </tr>\n",
       "  </tbody>\n",
       "</table>\n",
       "</div>"
      ],
      "text/plain": [
       "  Date received                                            Product  \\\n",
       "0    2023-07-26  Credit reporting, credit repair services, or o...   \n",
       "1    2023-07-26          Payday loan, title loan, or personal loan   \n",
       "2    2023-07-25                        Checking or savings account   \n",
       "3    2023-07-25                        Checking or savings account   \n",
       "4    2023-07-25                        Credit card or prepaid card   \n",
       "\n",
       "                                  Sub-product  \\\n",
       "0                            Credit reporting   \n",
       "1                                  Title loan   \n",
       "2                            Checking account   \n",
       "3                            Checking account   \n",
       "4  General-purpose credit card or charge card   \n",
       "\n",
       "                                               Issue  \\\n",
       "0  Problem with a credit reporting company's inve...   \n",
       "1         Charged fees or interest you didn't expect   \n",
       "2                                Managing an account   \n",
       "3  Problem with a lender or other company chargin...   \n",
       "4    Problem with a purchase shown on your statement   \n",
       "\n",
       "                                           Sub-issue  \\\n",
       "0               Investigation took more than 30 days   \n",
       "1                                                NaN   \n",
       "2                                     Banking errors   \n",
       "3                     Transaction was not authorized   \n",
       "4  Credit card company isn't resolving a dispute ...   \n",
       "\n",
       "  Consumer complaint narrative Company public response  \\\n",
       "0                          NaN                     NaN   \n",
       "1                          NaN                     NaN   \n",
       "2                          NaN                     NaN   \n",
       "3                          NaN                     NaN   \n",
       "4                          NaN                     NaN   \n",
       "\n",
       "                                  Company State ZIP code Tags  \\\n",
       "0  TRANSUNION INTERMEDIATE HOLDINGS, INC.    FL    33311  NaN   \n",
       "1                        DFC Global Corp.    CA    92517  NaN   \n",
       "2               NAVY FEDERAL CREDIT UNION    CA    90008  NaN   \n",
       "3               NAVY FEDERAL CREDIT UNION    PA    19120  NaN   \n",
       "4               NAVY FEDERAL CREDIT UNION    WA    98520  NaN   \n",
       "\n",
       "  Consumer consent provided? Submitted via Date sent to company  \\\n",
       "0                        NaN           Web           2023-07-26   \n",
       "1                        NaN           Web           2023-07-26   \n",
       "2                        NaN         Phone           2023-07-25   \n",
       "3                        NaN      Referral           2023-07-25   \n",
       "4                        NaN           Web           2023-07-25   \n",
       "\n",
       "  Company response to consumer Timely response? Consumer disputed?  \\\n",
       "0                  In progress              Yes                NaN   \n",
       "1                  In progress              Yes                NaN   \n",
       "2                  In progress              Yes                NaN   \n",
       "3                  In progress              Yes                NaN   \n",
       "4                  In progress              Yes                NaN   \n",
       "\n",
       "   Complaint ID  \n",
       "0       7304973  \n",
       "1       7299736  \n",
       "2       7300424  \n",
       "3       7302242  \n",
       "4       7301655  "
      ]
     },
     "execution_count": 2,
     "metadata": {},
     "output_type": "execute_result"
    }
   ],
   "source": [
    "df=pd.read_csv(\"C:/Users/panayyar/Documents/asess/complaints.csv\")  #import dataset\n",
    "df.head()"
   ]
  },
  {
   "cell_type": "code",
   "execution_count": 3,
   "id": "b3c516c7",
   "metadata": {},
   "outputs": [
    {
     "data": {
      "text/plain": [
       "(3898716, 18)"
      ]
     },
     "execution_count": 3,
     "metadata": {},
     "output_type": "execute_result"
    }
   ],
   "source": [
    "df.shape"
   ]
  },
  {
   "cell_type": "code",
   "execution_count": 4,
   "id": "29f3a754",
   "metadata": {},
   "outputs": [
    {
     "name": "stdout",
     "output_type": "stream",
     "text": [
      "<class 'pandas.core.frame.DataFrame'>\n",
      "RangeIndex: 3898716 entries, 0 to 3898715\n",
      "Data columns (total 18 columns):\n",
      " #   Column                        Dtype \n",
      "---  ------                        ----- \n",
      " 0   Date received                 object\n",
      " 1   Product                       object\n",
      " 2   Sub-product                   object\n",
      " 3   Issue                         object\n",
      " 4   Sub-issue                     object\n",
      " 5   Consumer complaint narrative  object\n",
      " 6   Company public response       object\n",
      " 7   Company                       object\n",
      " 8   State                         object\n",
      " 9   ZIP code                      object\n",
      " 10  Tags                          object\n",
      " 11  Consumer consent provided?    object\n",
      " 12  Submitted via                 object\n",
      " 13  Date sent to company          object\n",
      " 14  Company response to consumer  object\n",
      " 15  Timely response?              object\n",
      " 16  Consumer disputed?            object\n",
      " 17  Complaint ID                  int64 \n",
      "dtypes: int64(1), object(17)\n",
      "memory usage: 535.4+ MB\n"
     ]
    }
   ],
   "source": [
    "df.info()"
   ]
  },
  {
   "cell_type": "code",
   "execution_count": 5,
   "id": "8c9782da",
   "metadata": {
    "scrolled": true
   },
   "outputs": [
    {
     "data": {
      "text/plain": [
       "Date received                    0.000000\n",
       "Product                          0.000000\n",
       "Sub-product                      6.035090\n",
       "Issue                            0.000000\n",
       "Sub-issue                       18.371254\n",
       "Consumer complaint narrative    63.771252\n",
       "Company public response         54.078856\n",
       "Company                          0.000000\n",
       "State                            1.084870\n",
       "ZIP code                         0.774511\n",
       "Tags                            89.378631\n",
       "Consumer consent provided?      22.730381\n",
       "Submitted via                    0.000000\n",
       "Date sent to company             0.000000\n",
       "Company response to consumer     0.000128\n",
       "Timely response?                 0.000000\n",
       "Consumer disputed?              80.292024\n",
       "Complaint ID                     0.000000\n",
       "dtype: float64"
      ]
     },
     "execution_count": 5,
     "metadata": {},
     "output_type": "execute_result"
    }
   ],
   "source": [
    "(df.isna().sum()/df.shape[0])*100  #to check missing values in dataset"
   ]
  },
  {
   "cell_type": "code",
   "execution_count": 6,
   "id": "0688b989",
   "metadata": {
    "scrolled": false
   },
   "outputs": [
    {
     "data": {
      "text/plain": [
       "Index(['Date received', 'Product', 'Sub-product', 'Issue', 'Sub-issue',\n",
       "       'Consumer complaint narrative', 'Company public response', 'Company',\n",
       "       'State', 'ZIP code', 'Tags', 'Consumer consent provided?',\n",
       "       'Submitted via', 'Date sent to company', 'Company response to consumer',\n",
       "       'Timely response?', 'Consumer disputed?', 'Complaint ID'],\n",
       "      dtype='object')"
      ]
     },
     "execution_count": 6,
     "metadata": {},
     "output_type": "execute_result"
    }
   ],
   "source": [
    "df.columns"
   ]
  },
  {
   "cell_type": "code",
   "execution_count": 7,
   "id": "3e276918",
   "metadata": {},
   "outputs": [
    {
     "data": {
      "text/plain": [
       "Consent not provided    1458303\n",
       "Consent provided        1413151\n",
       "Other                    134082\n",
       "Consent withdrawn          6987\n",
       "Name: Consumer consent provided?, dtype: int64"
      ]
     },
     "execution_count": 7,
     "metadata": {},
     "output_type": "execute_result"
    }
   ],
   "source": [
    "df[\"Consumer consent provided?\"].value_counts()"
   ]
  },
  {
   "cell_type": "code",
   "execution_count": 8,
   "id": "7bffbf65",
   "metadata": {},
   "outputs": [
    {
     "data": {
      "text/plain": [
       "Credit reporting, credit repair services, or other personal consumer reports    2074862\n",
       "Debt collection                                                                  496734\n",
       "Mortgage                                                                         381097\n",
       "Credit card or prepaid card                                                      199531\n",
       "Checking or savings account                                                      175468\n",
       "Credit reporting                                                                 140429\n",
       "Credit card                                                                       89190\n",
       "Bank account or service                                                           86205\n",
       "Student loan                                                                      75423\n",
       "Money transfer, virtual currency, or money service                                56854\n",
       "Vehicle loan or lease                                                             45759\n",
       "Consumer Loan                                                                     31575\n",
       "Payday loan, title loan, or personal loan                                         29799\n",
       "Payday loan                                                                        5541\n",
       "Money transfers                                                                    5354\n",
       "Prepaid card                                                                       3819\n",
       "Other financial service                                                            1058\n",
       "Virtual currency                                                                     18\n",
       "Name: Product, dtype: int64"
      ]
     },
     "execution_count": 8,
     "metadata": {},
     "output_type": "execute_result"
    }
   ],
   "source": [
    "df[\"Product\"].value_counts()"
   ]
  },
  {
   "cell_type": "code",
   "execution_count": 9,
   "id": "360b5bda",
   "metadata": {},
   "outputs": [
    {
     "data": {
      "text/plain": [
       "18"
      ]
     },
     "execution_count": 9,
     "metadata": {},
     "output_type": "execute_result"
    }
   ],
   "source": [
    "df[\"Product\"].nunique()"
   ]
  },
  {
   "cell_type": "code",
   "execution_count": 10,
   "id": "65fd3542",
   "metadata": {},
   "outputs": [
    {
     "data": {
      "text/plain": [
       "Credit reporting                              2054397\n",
       "Checking account                               198780\n",
       "General-purpose credit card or charge card     153165\n",
       "I do not know                                  110433\n",
       "Other debt                                      97703\n",
       "                                               ...   \n",
       "Credit repair                                     102\n",
       "Traveler’s/Cashier’s checks                        88\n",
       "Transit card                                       37\n",
       "Student prepaid card                               31\n",
       "Electronic Benefit Transfer / EBT card             12\n",
       "Name: Sub-product, Length: 76, dtype: int64"
      ]
     },
     "execution_count": 10,
     "metadata": {},
     "output_type": "execute_result"
    }
   ],
   "source": [
    "df[\"Sub-product\"].value_counts() #as this is contained in product can be removed"
   ]
  },
  {
   "cell_type": "code",
   "execution_count": 11,
   "id": "e38daae5",
   "metadata": {},
   "outputs": [
    {
     "data": {
      "text/plain": [
       "Incorrect information on your report                                                999447\n",
       "Problem with a credit reporting company's investigation into an existing problem    561150\n",
       "Improper use of your report                                                         488014\n",
       "Attempts to collect debt not owed                                                   176681\n",
       "Loan modification,collection,foreclosure                                            112306\n",
       "                                                                                     ...  \n",
       "Problem with an overdraft                                                                9\n",
       "Lender damaged or destroyed vehicle                                                      8\n",
       "Property was damaged or destroyed property                                               7\n",
       "Lender sold the property                                                                 7\n",
       "Lender damaged or destroyed property                                                     3\n",
       "Name: Issue, Length: 165, dtype: int64"
      ]
     },
     "execution_count": 11,
     "metadata": {},
     "output_type": "execute_result"
    }
   ],
   "source": [
    "df[\"Issue\"].value_counts()"
   ]
  },
  {
   "cell_type": "code",
   "execution_count": 12,
   "id": "f538fef8",
   "metadata": {},
   "outputs": [
    {
     "data": {
      "text/plain": [
       "165"
      ]
     },
     "execution_count": 12,
     "metadata": {},
     "output_type": "execute_result"
    }
   ],
   "source": [
    "df[\"Issue\"].nunique()"
   ]
  },
  {
   "cell_type": "code",
   "execution_count": 13,
   "id": "ca39d856",
   "metadata": {},
   "outputs": [
    {
     "data": {
      "text/plain": [
       "<Axes: ylabel='Issue'>"
      ]
     },
     "execution_count": 13,
     "metadata": {},
     "output_type": "execute_result"
    },
    {
     "data": {
      "image/png": "[encoded data removed]",
      "text/plain": [
       "<Figure size 640x480 with 1 Axes>"
      ]
     },
     "metadata": {},
     "output_type": "display_data"
    }
   ],
   "source": [
    "df[\"Issue\"].value_counts().head(7).plot(kind=\"pie\", autopct=\"%.2f%%\")"
   ]
  },
  {
   "cell_type": "code",
   "execution_count": 14,
   "id": "09f14e04",
   "metadata": {},
   "outputs": [
    {
     "data": {
      "text/plain": [
       "221"
      ]
     },
     "execution_count": 14,
     "metadata": {},
     "output_type": "execute_result"
    }
   ],
   "source": [
    "df[\"Sub-issue\"].nunique()"
   ]
  },
  {
   "cell_type": "code",
   "execution_count": 15,
   "id": "cf34f9d9",
   "metadata": {},
   "outputs": [
    {
     "data": {
      "text/plain": [
       "Information belongs to someone else                                                 651647\n",
       "Reporting company used your report improperly                                       326352\n",
       "Their investigation did not fix an error on your report                             322692\n",
       "Credit inquiries on your report that you don't recognize                            157975\n",
       "Investigation took more than 30 days                                                114220\n",
       "                                                                                     ...  \n",
       "Was signed up for overdraft on card, but don't want to be                                7\n",
       "Insurance terms                                                                          6\n",
       "Problem with a credit reporting company's investigation into an existing problem         3\n",
       "Credit monitoring or identity theft protection services                                  1\n",
       "Improper use of your report                                                              1\n",
       "Name: Sub-issue, Length: 221, dtype: int64"
      ]
     },
     "execution_count": 15,
     "metadata": {},
     "output_type": "execute_result"
    }
   ],
   "source": [
    "df[\"Sub-issue\"].value_counts() #contained in issue so can be dropped"
   ]
  },
  {
   "cell_type": "code",
   "execution_count": 16,
   "id": "4dad6e33",
   "metadata": {},
   "outputs": [
    {
     "data": {
      "text/plain": [
       "1206569"
      ]
     },
     "execution_count": 16,
     "metadata": {},
     "output_type": "execute_result"
    }
   ],
   "source": [
    "df[\"Consumer complaint narrative\"].nunique()  #main feature containing complaints"
   ]
  },
  {
   "cell_type": "code",
   "execution_count": 17,
   "id": "b560ba2c",
   "metadata": {},
   "outputs": [
    {
     "data": {
      "text/plain": [
       "11"
      ]
     },
     "execution_count": 17,
     "metadata": {},
     "output_type": "execute_result"
    }
   ],
   "source": [
    "df['Company public response'].nunique()  "
   ]
  },
  {
   "cell_type": "code",
   "execution_count": 18,
   "id": "24994b17",
   "metadata": {},
   "outputs": [
    {
     "data": {
      "text/plain": [
       "Company has responded to the consumer and the CFPB and chooses not to provide a public response                            1565443\n",
       "Company believes it acted appropriately as authorized by contract or law                                                    124815\n",
       "Company chooses not to provide a public response                                                                             52473\n",
       "Company believes the complaint is the result of a misunderstanding                                                           12177\n",
       "Company disputes the facts presented in the complaint                                                                         9866\n",
       "Company believes complaint caused principally by actions of third party outside the control or direction of the company       7466\n",
       "Company believes complaint is the result of an isolated error                                                                 6032\n",
       "Company believes complaint represents an opportunity for improvement to better serve consumers                                4530\n",
       "Company can't verify or dispute the facts in the complaint                                                                    4138\n",
       "Company believes the complaint provided an opportunity to answer consumer's questions                                         3287\n",
       "Company believes complaint relates to a discontinued policy or procedure                                                       108\n",
       "Name: Company public response, dtype: int64"
      ]
     },
     "execution_count": 18,
     "metadata": {},
     "output_type": "execute_result"
    }
   ],
   "source": [
    "df['Company public response'].value_counts()"
   ]
  },
  {
   "cell_type": "code",
   "execution_count": 19,
   "id": "a6d30364",
   "metadata": {},
   "outputs": [
    {
     "name": "stdout",
     "output_type": "stream",
     "text": [
      "6836\n",
      "EQUIFAX, INC.                             732980\n",
      "TRANSUNION INTERMEDIATE HOLDINGS, INC.    646163\n",
      "Experian Information Solutions Inc.       595311\n",
      "BANK OF AMERICA, NATIONAL ASSOCIATION     129325\n",
      "WELLS FARGO & COMPANY                     117690\n",
      "                                           ...  \n",
      "Legal Recovery Specialists LLC                 1\n",
      "STARK & STARK, P.C.                            1\n",
      "Capital M Lending, LLC                         1\n",
      "Blitz Ventures, LLC                            1\n",
      "Mann & Carducci Co., LPA                       1\n",
      "Name: Company, Length: 6836, dtype: int64\n"
     ]
    }
   ],
   "source": [
    "print(df[\"Company\"].nunique())\n",
    "print(df[\"Company\"].value_counts())\n"
   ]
  },
  {
   "cell_type": "code",
   "execution_count": 20,
   "id": "796e2c6c",
   "metadata": {},
   "outputs": [],
   "source": [
    "counts=df[\"Company\"].value_counts()\n",
    "count_1=counts[counts==1].index.tolist()"
   ]
  },
  {
   "cell_type": "code",
   "execution_count": 21,
   "id": "d97073e6",
   "metadata": {},
   "outputs": [],
   "source": [
    "df[\"Company\"]=df[\"Company\"].replace(count_1,\"Others\")#replaced single vales with others"
   ]
  },
  {
   "cell_type": "code",
   "execution_count": 22,
   "id": "5cddb211",
   "metadata": {},
   "outputs": [
    {
     "data": {
      "text/plain": [
       "Servicemember                    238653\n",
       "Older American                   141345\n",
       "Older American, Servicemember     34099\n",
       "Name: Tags, dtype: int64"
      ]
     },
     "execution_count": 22,
     "metadata": {},
     "output_type": "execute_result"
    }
   ],
   "source": [
    "df[\"Tags\"].value_counts()"
   ]
  },
  {
   "cell_type": "code",
   "execution_count": 23,
   "id": "a23866b4",
   "metadata": {
    "scrolled": true
   },
   "outputs": [
    {
     "data": {
      "text/plain": [
       "Closed with explanation            2866820\n",
       "Closed with non-monetary relief     733814\n",
       "Closed with monetary relief         135954\n",
       "In progress                         112074\n",
       "Closed without relief                17868\n",
       "Closed                               17611\n",
       "Untimely response                     9266\n",
       "Closed with relief                    5304\n",
       "Name: Company response to consumer, dtype: int64"
      ]
     },
     "execution_count": 23,
     "metadata": {},
     "output_type": "execute_result"
    }
   ],
   "source": [
    "df[\"Company response to consumer\"].value_counts()"
   ]
  },
  {
   "cell_type": "code",
   "execution_count": 24,
   "id": "6d7291da",
   "metadata": {},
   "outputs": [
    {
     "data": {
      "text/plain": [
       "7"
      ]
     },
     "execution_count": 24,
     "metadata": {},
     "output_type": "execute_result"
    }
   ],
   "source": [
    "df['Submitted via'].nunique()"
   ]
  },
  {
   "cell_type": "code",
   "execution_count": 25,
   "id": "5a530ef6",
   "metadata": {},
   "outputs": [
    {
     "data": {
      "text/plain": [
       "8"
      ]
     },
     "execution_count": 25,
     "metadata": {},
     "output_type": "execute_result"
    }
   ],
   "source": [
    "df[\"Company response to consumer\"].nunique()"
   ]
  },
  {
   "cell_type": "code",
   "execution_count": 26,
   "id": "1356b116",
   "metadata": {},
   "outputs": [
    {
     "data": {
      "text/plain": [
       "No     619980\n",
       "Yes    148378\n",
       "Name: Consumer disputed?, dtype: int64"
      ]
     },
     "execution_count": 26,
     "metadata": {},
     "output_type": "execute_result"
    }
   ],
   "source": [
    "df[\"Consumer disputed?\"].value_counts()"
   ]
  },
  {
   "cell_type": "code",
   "execution_count": 27,
   "id": "7a1cf9ad",
   "metadata": {},
   "outputs": [
    {
     "data": {
      "text/plain": [
       "Yes    3845342\n",
       "No       53374\n",
       "Name: Timely response?, dtype: int64"
      ]
     },
     "execution_count": 27,
     "metadata": {},
     "output_type": "execute_result"
    }
   ],
   "source": [
    "df['Timely response?'].value_counts()"
   ]
  },
  {
   "cell_type": "code",
   "execution_count": 28,
   "id": "0b6cf410",
   "metadata": {},
   "outputs": [],
   "source": [
    "df['Timely response?']=df['Timely response?'].map({\"Yes\":1,\"No\":0})"
   ]
  },
  {
   "cell_type": "code",
   "execution_count": 29,
   "id": "2481d1fc",
   "metadata": {},
   "outputs": [
    {
     "data": {
      "text/plain": [
       "Index(['Date received', 'Product', 'Sub-product', 'Issue', 'Sub-issue',\n",
       "       'Consumer complaint narrative', 'Company public response', 'Company',\n",
       "       'State', 'ZIP code', 'Tags', 'Consumer consent provided?',\n",
       "       'Submitted via', 'Date sent to company', 'Company response to consumer',\n",
       "       'Timely response?', 'Consumer disputed?', 'Complaint ID'],\n",
       "      dtype='object')"
      ]
     },
     "execution_count": 29,
     "metadata": {},
     "output_type": "execute_result"
    }
   ],
   "source": [
    "df.columns"
   ]
  },
  {
   "cell_type": "code",
   "execution_count": 30,
   "id": "31ef4d20",
   "metadata": {},
   "outputs": [
    {
     "data": {
      "text/plain": [
       "No     619980\n",
       "Yes    148378\n",
       "Name: Consumer disputed?, dtype: int64"
      ]
     },
     "execution_count": 30,
     "metadata": {},
     "output_type": "execute_result"
    }
   ],
   "source": [
    "df[\"Consumer disputed?\"].value_counts() "
   ]
  },
  {
   "cell_type": "code",
   "execution_count": 31,
   "id": "e206cd3a",
   "metadata": {},
   "outputs": [],
   "source": [
    "cols_drop=[\"Date received\",\"Sub-product\",\"Issue\",\"Sub-issue\",\"Company public response\",\"Company\",\"State\",\"ZIP code\",\"Tags\",\"Consumer consent provided?\",\"Date sent to company\",\"Submitted via\",\"Timely response?\",\"Complaint ID\",\"Consumer disputed?\"]"
   ]
  },
  {
   "cell_type": "markdown",
   "id": "e8d0fddc",
   "metadata": {},
   "source": [
    "unwanted columns to delete which as above"
   ]
  },
  {
   "cell_type": "code",
   "execution_count": 32,
   "id": "ee852772",
   "metadata": {},
   "outputs": [],
   "source": [
    "df1=df.drop(cols_drop,1)"
   ]
  },
  {
   "cell_type": "code",
   "execution_count": 33,
   "id": "10b3241c",
   "metadata": {},
   "outputs": [
    {
     "data": {
      "text/html": [
       "<div>\n",
       "<style scoped>\n",
       "    .dataframe tbody tr th:only-of-type {\n",
       "        vertical-align: middle;\n",
       "    }\n",
       "\n",
       "    .dataframe tbody tr th {\n",
       "        vertical-align: top;\n",
       "    }\n",
       "\n",
       "    .dataframe thead th {\n",
       "        text-align: right;\n",
       "    }\n",
       "</style>\n",
       "<table border=\"1\" class=\"dataframe\">\n",
       "  <thead>\n",
       "    <tr style=\"text-align: right;\">\n",
       "      <th></th>\n",
       "      <th>Product</th>\n",
       "      <th>Consumer complaint narrative</th>\n",
       "      <th>Company response to consumer</th>\n",
       "    </tr>\n",
       "  </thead>\n",
       "  <tbody>\n",
       "    <tr>\n",
       "      <th>0</th>\n",
       "      <td>Credit reporting, credit repair services, or o...</td>\n",
       "      <td>NaN</td>\n",
       "      <td>In progress</td>\n",
       "    </tr>\n",
       "    <tr>\n",
       "      <th>1</th>\n",
       "      <td>Payday loan, title loan, or personal loan</td>\n",
       "      <td>NaN</td>\n",
       "      <td>In progress</td>\n",
       "    </tr>\n",
       "    <tr>\n",
       "      <th>2</th>\n",
       "      <td>Checking or savings account</td>\n",
       "      <td>NaN</td>\n",
       "      <td>In progress</td>\n",
       "    </tr>\n",
       "    <tr>\n",
       "      <th>3</th>\n",
       "      <td>Checking or savings account</td>\n",
       "      <td>NaN</td>\n",
       "      <td>In progress</td>\n",
       "    </tr>\n",
       "    <tr>\n",
       "      <th>4</th>\n",
       "      <td>Credit card or prepaid card</td>\n",
       "      <td>NaN</td>\n",
       "      <td>In progress</td>\n",
       "    </tr>\n",
       "  </tbody>\n",
       "</table>\n",
       "</div>"
      ],
      "text/plain": [
       "                                             Product  \\\n",
       "0  Credit reporting, credit repair services, or o...   \n",
       "1          Payday loan, title loan, or personal loan   \n",
       "2                        Checking or savings account   \n",
       "3                        Checking or savings account   \n",
       "4                        Credit card or prepaid card   \n",
       "\n",
       "  Consumer complaint narrative Company response to consumer  \n",
       "0                          NaN                  In progress  \n",
       "1                          NaN                  In progress  \n",
       "2                          NaN                  In progress  \n",
       "3                          NaN                  In progress  \n",
       "4                          NaN                  In progress  "
      ]
     },
     "execution_count": 33,
     "metadata": {},
     "output_type": "execute_result"
    }
   ],
   "source": [
    "df_new=df1.copy()\n",
    "df_new.head()"
   ]
  },
  {
   "cell_type": "code",
   "execution_count": 34,
   "id": "6fbbff76",
   "metadata": {},
   "outputs": [
    {
     "data": {
      "text/plain": [
       "Product                               0\n",
       "Consumer complaint narrative    2486260\n",
       "Company response to consumer          5\n",
       "dtype: int64"
      ]
     },
     "execution_count": 34,
     "metadata": {},
     "output_type": "execute_result"
    }
   ],
   "source": [
    "df_new.isnull().sum()"
   ]
  },
  {
   "cell_type": "code",
   "execution_count": 35,
   "id": "7a633bde",
   "metadata": {},
   "outputs": [],
   "source": [
    "df_new.dropna(inplace=True)#removing missing values as  there are lots of records"
   ]
  },
  {
   "cell_type": "code",
   "execution_count": 36,
   "id": "daa9a2eb",
   "metadata": {},
   "outputs": [
    {
     "data": {
      "text/plain": [
       "Product                         0\n",
       "Consumer complaint narrative    0\n",
       "Company response to consumer    0\n",
       "dtype: int64"
      ]
     },
     "execution_count": 36,
     "metadata": {},
     "output_type": "execute_result"
    }
   ],
   "source": [
    "df_new.isnull().sum()"
   ]
  },
  {
   "cell_type": "code",
   "execution_count": 37,
   "id": "d8d95038",
   "metadata": {},
   "outputs": [
    {
     "data": {
      "text/html": [
       "<div>\n",
       "<style scoped>\n",
       "    .dataframe tbody tr th:only-of-type {\n",
       "        vertical-align: middle;\n",
       "    }\n",
       "\n",
       "    .dataframe tbody tr th {\n",
       "        vertical-align: top;\n",
       "    }\n",
       "\n",
       "    .dataframe thead th {\n",
       "        text-align: right;\n",
       "    }\n",
       "</style>\n",
       "<table border=\"1\" class=\"dataframe\">\n",
       "  <thead>\n",
       "    <tr style=\"text-align: right;\">\n",
       "      <th></th>\n",
       "      <th>Product</th>\n",
       "      <th>Consumer complaint narrative</th>\n",
       "      <th>Company response to consumer</th>\n",
       "    </tr>\n",
       "  </thead>\n",
       "  <tbody>\n",
       "    <tr>\n",
       "      <th>5</th>\n",
       "      <td>Credit reporting, credit repair services, or o...</td>\n",
       "      <td>I looked over my credit report and saw some in...</td>\n",
       "      <td>Closed with explanation</td>\n",
       "    </tr>\n",
       "    <tr>\n",
       "      <th>28</th>\n",
       "      <td>Credit card or prepaid card</td>\n",
       "      <td>credit card was settled on XX/XX/2022 for the ...</td>\n",
       "      <td>Closed with explanation</td>\n",
       "    </tr>\n",
       "    <tr>\n",
       "      <th>243</th>\n",
       "      <td>Credit reporting, credit repair services, or o...</td>\n",
       "      <td>XXXX XXXX XXXX XXXX is reporting an account wi...</td>\n",
       "      <td>Closed with non-monetary relief</td>\n",
       "    </tr>\n",
       "    <tr>\n",
       "      <th>634</th>\n",
       "      <td>Mortgage</td>\n",
       "      <td>Im relocation to XXXX I got transferred from m...</td>\n",
       "      <td>Closed with explanation</td>\n",
       "    </tr>\n",
       "    <tr>\n",
       "      <th>938</th>\n",
       "      <td>Credit reporting, credit repair services, or o...</td>\n",
       "      <td>I have identified inquiries on my report are n...</td>\n",
       "      <td>Closed with explanation</td>\n",
       "    </tr>\n",
       "  </tbody>\n",
       "</table>\n",
       "</div>"
      ],
      "text/plain": [
       "                                               Product  \\\n",
       "5    Credit reporting, credit repair services, or o...   \n",
       "28                         Credit card or prepaid card   \n",
       "243  Credit reporting, credit repair services, or o...   \n",
       "634                                           Mortgage   \n",
       "938  Credit reporting, credit repair services, or o...   \n",
       "\n",
       "                          Consumer complaint narrative  \\\n",
       "5    I looked over my credit report and saw some in...   \n",
       "28   credit card was settled on XX/XX/2022 for the ...   \n",
       "243  XXXX XXXX XXXX XXXX is reporting an account wi...   \n",
       "634  Im relocation to XXXX I got transferred from m...   \n",
       "938  I have identified inquiries on my report are n...   \n",
       "\n",
       "        Company response to consumer  \n",
       "5            Closed with explanation  \n",
       "28           Closed with explanation  \n",
       "243  Closed with non-monetary relief  \n",
       "634          Closed with explanation  \n",
       "938          Closed with explanation  "
      ]
     },
     "execution_count": 37,
     "metadata": {},
     "output_type": "execute_result"
    }
   ],
   "source": [
    "df_new.head()"
   ]
  },
  {
   "cell_type": "code",
   "execution_count": 38,
   "id": "63f2686e",
   "metadata": {},
   "outputs": [
    {
     "data": {
      "text/plain": [
       "(1412454, 3)"
      ]
     },
     "execution_count": 38,
     "metadata": {},
     "output_type": "execute_result"
    }
   ],
   "source": [
    "df_new.shape"
   ]
  },
  {
   "cell_type": "code",
   "execution_count": 39,
   "id": "094e2b0b",
   "metadata": {},
   "outputs": [],
   "source": [
    "df_new=df_new.drop_duplicates()"
   ]
  },
  {
   "cell_type": "code",
   "execution_count": 40,
   "id": "f509cf71",
   "metadata": {},
   "outputs": [
    {
     "data": {
      "text/html": [
       "<div>\n",
       "<style scoped>\n",
       "    .dataframe tbody tr th:only-of-type {\n",
       "        vertical-align: middle;\n",
       "    }\n",
       "\n",
       "    .dataframe tbody tr th {\n",
       "        vertical-align: top;\n",
       "    }\n",
       "\n",
       "    .dataframe thead th {\n",
       "        text-align: right;\n",
       "    }\n",
       "</style>\n",
       "<table border=\"1\" class=\"dataframe\">\n",
       "  <thead>\n",
       "    <tr style=\"text-align: right;\">\n",
       "      <th></th>\n",
       "      <th>Product</th>\n",
       "      <th>Consumer complaint narrative</th>\n",
       "      <th>Company response to consumer</th>\n",
       "    </tr>\n",
       "  </thead>\n",
       "  <tbody>\n",
       "    <tr>\n",
       "      <th>1475344</th>\n",
       "      <td>Credit reporting, credit repair services, or o...</td>\n",
       "      <td>This company has been notified on multiple occ...</td>\n",
       "      <td>Closed with explanation</td>\n",
       "    </tr>\n",
       "    <tr>\n",
       "      <th>3324754</th>\n",
       "      <td>Debt collection</td>\n",
       "      <td>On    XXXX   XXXX     2017  I faxed a letter r...</td>\n",
       "      <td>Closed with explanation</td>\n",
       "    </tr>\n",
       "    <tr>\n",
       "      <th>1009716</th>\n",
       "      <td>Credit reporting, credit repair services, or o...</td>\n",
       "      <td>In accordance with the Fair Credit Reporting a...</td>\n",
       "      <td>Closed with non-monetary relief</td>\n",
       "    </tr>\n",
       "    <tr>\n",
       "      <th>1761039</th>\n",
       "      <td>Debt collection</td>\n",
       "      <td>Pressler &amp; Pressler took 100 % of the funds fr...</td>\n",
       "      <td>Closed with explanation</td>\n",
       "    </tr>\n",
       "    <tr>\n",
       "      <th>2770959</th>\n",
       "      <td>Credit reporting, credit repair services, or o...</td>\n",
       "      <td>Transunion, XXXX, and XXXX continue to fail to...</td>\n",
       "      <td>Closed with non-monetary relief</td>\n",
       "    </tr>\n",
       "  </tbody>\n",
       "</table>\n",
       "</div>"
      ],
      "text/plain": [
       "                                                   Product  \\\n",
       "1475344  Credit reporting, credit repair services, or o...   \n",
       "3324754                                    Debt collection   \n",
       "1009716  Credit reporting, credit repair services, or o...   \n",
       "1761039                                    Debt collection   \n",
       "2770959  Credit reporting, credit repair services, or o...   \n",
       "\n",
       "                              Consumer complaint narrative  \\\n",
       "1475344  This company has been notified on multiple occ...   \n",
       "3324754  On    XXXX   XXXX     2017  I faxed a letter r...   \n",
       "1009716  In accordance with the Fair Credit Reporting a...   \n",
       "1761039  Pressler & Pressler took 100 % of the funds fr...   \n",
       "2770959  Transunion, XXXX, and XXXX continue to fail to...   \n",
       "\n",
       "            Company response to consumer  \n",
       "1475344          Closed with explanation  \n",
       "3324754          Closed with explanation  \n",
       "1009716  Closed with non-monetary relief  \n",
       "1761039          Closed with explanation  \n",
       "2770959  Closed with non-monetary relief  "
      ]
     },
     "execution_count": 40,
     "metadata": {},
     "output_type": "execute_result"
    }
   ],
   "source": [
    "data = df_new.sample(10000, random_state=42).copy()\n",
    "data.head()"
   ]
  },
  {
   "cell_type": "code",
   "execution_count": 41,
   "id": "cb533010",
   "metadata": {},
   "outputs": [
    {
     "name": "stdout",
     "output_type": "stream",
     "text": [
      "17\n"
     ]
    },
    {
     "data": {
      "text/plain": [
       "array(['Credit reporting, credit repair services, or other personal consumer reports',\n",
       "       'Debt collection', 'Student loan', 'Checking or savings account',\n",
       "       'Money transfer, virtual currency, or money service',\n",
       "       'Credit card', 'Mortgage', 'Credit card or prepaid card',\n",
       "       'Vehicle loan or lease', 'Credit reporting', 'Consumer Loan',\n",
       "       'Bank account or service',\n",
       "       'Payday loan, title loan, or personal loan', 'Money transfers',\n",
       "       'Payday loan', 'Prepaid card', 'Other financial service'],\n",
       "      dtype=object)"
      ]
     },
     "execution_count": 41,
     "metadata": {},
     "output_type": "execute_result"
    }
   ],
   "source": [
    "print(data['Product'].nunique())\n",
    "data['Product'].unique()"
   ]
  },
  {
   "cell_type": "code",
   "execution_count": 42,
   "id": "24589679",
   "metadata": {},
   "outputs": [],
   "source": [
    "prod_dict={'Credit card': 'Credit card or prepaid card',\n",
    "    'Prepaid card': 'Credit card or prepaid card',\n",
    "    'Payday loan': 'Payday loan, title loan, or personal loan',\n",
    "    'Money transfer': 'Money transfer, virtual currency, or money service',\n",
    "    'Virtual currency': 'Money transfer, virtual currency, or money service',\n",
    "    'Credit reporting, credit repair services, or other personal consumer reports': 'Credit reporting, credit repair, or other', \n",
    "    'Credit reporting': 'Credit reporting, credit repair, or other'\n",
    "    }"
   ]
  },
  {
   "cell_type": "code",
   "execution_count": 43,
   "id": "7277eff4",
   "metadata": {},
   "outputs": [],
   "source": [
    "data.replace({'Product':prod_dict}, inplace= True)"
   ]
  },
  {
   "cell_type": "code",
   "execution_count": 44,
   "id": "fbd0ed44",
   "metadata": {},
   "outputs": [
    {
     "name": "stdout",
     "output_type": "stream",
     "text": [
      "13\n"
     ]
    },
    {
     "data": {
      "text/plain": [
       "array(['Credit reporting, credit repair, or other', 'Debt collection',\n",
       "       'Student loan', 'Checking or savings account',\n",
       "       'Money transfer, virtual currency, or money service',\n",
       "       'Credit card or prepaid card', 'Mortgage', 'Vehicle loan or lease',\n",
       "       'Consumer Loan', 'Bank account or service',\n",
       "       'Payday loan, title loan, or personal loan', 'Money transfers',\n",
       "       'Other financial service'], dtype=object)"
      ]
     },
     "execution_count": 44,
     "metadata": {},
     "output_type": "execute_result"
    }
   ],
   "source": [
    "print(data['Product'].nunique())\n",
    "data['Product'].unique()"
   ]
  },
  {
   "cell_type": "code",
   "execution_count": 45,
   "id": "19c9dab9",
   "metadata": {},
   "outputs": [
    {
     "data": {
      "text/html": [
       "<div>\n",
       "<style scoped>\n",
       "    .dataframe tbody tr th:only-of-type {\n",
       "        vertical-align: middle;\n",
       "    }\n",
       "\n",
       "    .dataframe tbody tr th {\n",
       "        vertical-align: top;\n",
       "    }\n",
       "\n",
       "    .dataframe thead th {\n",
       "        text-align: right;\n",
       "    }\n",
       "</style>\n",
       "<table border=\"1\" class=\"dataframe\">\n",
       "  <thead>\n",
       "    <tr style=\"text-align: right;\">\n",
       "      <th></th>\n",
       "      <th>Product</th>\n",
       "      <th>Consumer complaint narrative</th>\n",
       "      <th>Company response to consumer</th>\n",
       "    </tr>\n",
       "  </thead>\n",
       "  <tbody>\n",
       "    <tr>\n",
       "      <th>1475344</th>\n",
       "      <td>Credit reporting, credit repair, or other</td>\n",
       "      <td>This company has been notified on multiple occ...</td>\n",
       "      <td>Closed with explanation</td>\n",
       "    </tr>\n",
       "    <tr>\n",
       "      <th>3324754</th>\n",
       "      <td>Debt collection</td>\n",
       "      <td>On    XXXX   XXXX     2017  I faxed a letter r...</td>\n",
       "      <td>Closed with explanation</td>\n",
       "    </tr>\n",
       "    <tr>\n",
       "      <th>1009716</th>\n",
       "      <td>Credit reporting, credit repair, or other</td>\n",
       "      <td>In accordance with the Fair Credit Reporting a...</td>\n",
       "      <td>Closed with non-monetary relief</td>\n",
       "    </tr>\n",
       "    <tr>\n",
       "      <th>1761039</th>\n",
       "      <td>Debt collection</td>\n",
       "      <td>Pressler &amp; Pressler took 100 % of the funds fr...</td>\n",
       "      <td>Closed with explanation</td>\n",
       "    </tr>\n",
       "    <tr>\n",
       "      <th>2770959</th>\n",
       "      <td>Credit reporting, credit repair, or other</td>\n",
       "      <td>Transunion, XXXX, and XXXX continue to fail to...</td>\n",
       "      <td>Closed with non-monetary relief</td>\n",
       "    </tr>\n",
       "    <tr>\n",
       "      <th>3723784</th>\n",
       "      <td>Credit reporting, credit repair, or other</td>\n",
       "      <td>I HAVE NEW UPDATED INFORMATION! \\nI am XXXX XX...</td>\n",
       "      <td>Closed with explanation</td>\n",
       "    </tr>\n",
       "    <tr>\n",
       "      <th>3740210</th>\n",
       "      <td>Credit reporting, credit repair, or other</td>\n",
       "      <td>Every time I try to access my account online u...</td>\n",
       "      <td>Closed with explanation</td>\n",
       "    </tr>\n",
       "  </tbody>\n",
       "</table>\n",
       "</div>"
      ],
      "text/plain": [
       "                                           Product  \\\n",
       "1475344  Credit reporting, credit repair, or other   \n",
       "3324754                            Debt collection   \n",
       "1009716  Credit reporting, credit repair, or other   \n",
       "1761039                            Debt collection   \n",
       "2770959  Credit reporting, credit repair, or other   \n",
       "3723784  Credit reporting, credit repair, or other   \n",
       "3740210  Credit reporting, credit repair, or other   \n",
       "\n",
       "                              Consumer complaint narrative  \\\n",
       "1475344  This company has been notified on multiple occ...   \n",
       "3324754  On    XXXX   XXXX     2017  I faxed a letter r...   \n",
       "1009716  In accordance with the Fair Credit Reporting a...   \n",
       "1761039  Pressler & Pressler took 100 % of the funds fr...   \n",
       "2770959  Transunion, XXXX, and XXXX continue to fail to...   \n",
       "3723784  I HAVE NEW UPDATED INFORMATION! \\nI am XXXX XX...   \n",
       "3740210  Every time I try to access my account online u...   \n",
       "\n",
       "            Company response to consumer  \n",
       "1475344          Closed with explanation  \n",
       "3324754          Closed with explanation  \n",
       "1009716  Closed with non-monetary relief  \n",
       "1761039          Closed with explanation  \n",
       "2770959  Closed with non-monetary relief  \n",
       "3723784          Closed with explanation  \n",
       "3740210          Closed with explanation  "
      ]
     },
     "execution_count": 45,
     "metadata": {},
     "output_type": "execute_result"
    }
   ],
   "source": [
    "data.head(7)"
   ]
  },
  {
   "cell_type": "code",
   "execution_count": 46,
   "id": "df22479f",
   "metadata": {},
   "outputs": [],
   "source": [
    "from sklearn.preprocessing import LabelEncoder\n",
    "encoder = LabelEncoder()\n",
    "data[\"Product_id\"]=encoder.fit_transform(data[\"Product\"])"
   ]
  },
  {
   "cell_type": "code",
   "execution_count": 47,
   "id": "b5631ca2",
   "metadata": {},
   "outputs": [
    {
     "data": {
      "text/plain": [
       "(10000, 4)"
      ]
     },
     "execution_count": 47,
     "metadata": {},
     "output_type": "execute_result"
    }
   ],
   "source": [
    "data.shape"
   ]
  },
  {
   "cell_type": "code",
   "execution_count": null,
   "id": "fd41b1af",
   "metadata": {},
   "outputs": [],
   "source": []
  },
  {
   "cell_type": "code",
   "execution_count": 48,
   "id": "9c500448",
   "metadata": {},
   "outputs": [],
   "source": [
    "prod_group=data.groupby('Product')['Consumer complaint narrative'].count().sort_values()"
   ]
  },
  {
   "cell_type": "code",
   "execution_count": 49,
   "id": "c863f548",
   "metadata": {},
   "outputs": [
    {
     "data": {
      "text/plain": [
       "<Axes: title={'center': 'Complaints for each Product'}, ylabel='Product'>"
      ]
     },
     "execution_count": 49,
     "metadata": {},
     "output_type": "execute_result"
    },
    {
     "data": {
      "image/png": "[encoded data removed]",
      "text/plain": [
       "<Figure size 900x500 with 1 Axes>"
      ]
     },
     "metadata": {},
     "output_type": "display_data"
    }
   ],
   "source": [
    "fig = plt.figure(figsize=(9,5))\n",
    "prod_group.plot.barh( title= 'Complaints for each Product')\n"
   ]
  },
  {
   "cell_type": "code",
   "execution_count": 50,
   "id": "3672bb0c",
   "metadata": {
    "scrolled": true
   },
   "outputs": [
    {
     "data": {
      "text/plain": [
       "[<matplotlib.lines.Line2D at 0x2e11ec5c070>]"
      ]
     },
     "execution_count": 50,
     "metadata": {},
     "output_type": "execute_result"
    },
    {
     "data": {
      "image/png": "[encoded data removed]",
      "text/plain": [
       "<Figure size 600x300 with 1 Axes>"
      ]
     },
     "metadata": {},
     "output_type": "display_data"
    }
   ],
   "source": [
    "fig = plt.figure(figsize=(6,3))\n",
    "len_complaint = [len(x) for x in data['Consumer complaint narrative']]\n",
    "plt.plot(len_complaint)"
   ]
  },
  {
   "cell_type": "code",
   "execution_count": 51,
   "id": "2f1b1825",
   "metadata": {},
   "outputs": [],
   "source": [
    "def preprocess_text(text_data):#method to preprocess text data\n",
    "   \n",
    "    text_data = text_data.lower()#lowering text\n",
    "    text_data = re.sub(r'[^\\w\\s]', '', text_data)#removing special characters\n",
    "    tokens = nltk.word_tokenize(text_data)#creating word tokens\n",
    "    preprocessed_text = ' '.join(tokens)\n",
    "    return preprocessed_text\n",
    "\n"
   ]
  },
  {
   "cell_type": "code",
   "execution_count": 52,
   "id": "241d94f3",
   "metadata": {},
   "outputs": [],
   "source": [
    "data[\"Consumer complaint narrative\"]=data[\"Consumer complaint narrative\"].apply(preprocess_text)"
   ]
  },
  {
   "cell_type": "code",
   "execution_count": 53,
   "id": "0760133a",
   "metadata": {
    "scrolled": true
   },
   "outputs": [
    {
     "data": {
      "text/html": [
       "<div>\n",
       "<style scoped>\n",
       "    .dataframe tbody tr th:only-of-type {\n",
       "        vertical-align: middle;\n",
       "    }\n",
       "\n",
       "    .dataframe tbody tr th {\n",
       "        vertical-align: top;\n",
       "    }\n",
       "\n",
       "    .dataframe thead th {\n",
       "        text-align: right;\n",
       "    }\n",
       "</style>\n",
       "<table border=\"1\" class=\"dataframe\">\n",
       "  <thead>\n",
       "    <tr style=\"text-align: right;\">\n",
       "      <th></th>\n",
       "      <th>Product</th>\n",
       "      <th>Consumer complaint narrative</th>\n",
       "      <th>Company response to consumer</th>\n",
       "      <th>Product_id</th>\n",
       "    </tr>\n",
       "  </thead>\n",
       "  <tbody>\n",
       "    <tr>\n",
       "      <th>1475344</th>\n",
       "      <td>Credit reporting, credit repair, or other</td>\n",
       "      <td>this company has been notified on multiple occ...</td>\n",
       "      <td>Closed with explanation</td>\n",
       "      <td>4</td>\n",
       "    </tr>\n",
       "    <tr>\n",
       "      <th>3324754</th>\n",
       "      <td>Debt collection</td>\n",
       "      <td>on xxxx xxxx 2017 i faxed a letter requesting ...</td>\n",
       "      <td>Closed with explanation</td>\n",
       "      <td>5</td>\n",
       "    </tr>\n",
       "    <tr>\n",
       "      <th>1009716</th>\n",
       "      <td>Credit reporting, credit repair, or other</td>\n",
       "      <td>in accordance with the fair credit reporting a...</td>\n",
       "      <td>Closed with non-monetary relief</td>\n",
       "      <td>4</td>\n",
       "    </tr>\n",
       "    <tr>\n",
       "      <th>1761039</th>\n",
       "      <td>Debt collection</td>\n",
       "      <td>pressler pressler took 100 of the funds from t...</td>\n",
       "      <td>Closed with explanation</td>\n",
       "      <td>5</td>\n",
       "    </tr>\n",
       "    <tr>\n",
       "      <th>2770959</th>\n",
       "      <td>Credit reporting, credit repair, or other</td>\n",
       "      <td>transunion xxxx and xxxx continue to fail to d...</td>\n",
       "      <td>Closed with non-monetary relief</td>\n",
       "      <td>4</td>\n",
       "    </tr>\n",
       "  </tbody>\n",
       "</table>\n",
       "</div>"
      ],
      "text/plain": [
       "                                           Product  \\\n",
       "1475344  Credit reporting, credit repair, or other   \n",
       "3324754                            Debt collection   \n",
       "1009716  Credit reporting, credit repair, or other   \n",
       "1761039                            Debt collection   \n",
       "2770959  Credit reporting, credit repair, or other   \n",
       "\n",
       "                              Consumer complaint narrative  \\\n",
       "1475344  this company has been notified on multiple occ...   \n",
       "3324754  on xxxx xxxx 2017 i faxed a letter requesting ...   \n",
       "1009716  in accordance with the fair credit reporting a...   \n",
       "1761039  pressler pressler took 100 of the funds from t...   \n",
       "2770959  transunion xxxx and xxxx continue to fail to d...   \n",
       "\n",
       "            Company response to consumer  Product_id  \n",
       "1475344          Closed with explanation           4  \n",
       "3324754          Closed with explanation           5  \n",
       "1009716  Closed with non-monetary relief           4  \n",
       "1761039          Closed with explanation           5  \n",
       "2770959  Closed with non-monetary relief           4  "
      ]
     },
     "execution_count": 53,
     "metadata": {},
     "output_type": "execute_result"
    }
   ],
   "source": [
    "data.head()"
   ]
  },
  {
   "cell_type": "code",
   "execution_count": 54,
   "id": "a67d5ebe",
   "metadata": {},
   "outputs": [
    {
     "data": {
      "text/plain": [
       "Index(['Product', 'Consumer complaint narrative',\n",
       "       'Company response to consumer', 'Product_id'],\n",
       "      dtype='object')"
      ]
     },
     "execution_count": 54,
     "metadata": {},
     "output_type": "execute_result"
    }
   ],
   "source": [
    "data.columns"
   ]
  },
  {
   "cell_type": "code",
   "execution_count": 55,
   "id": "4a8e9118",
   "metadata": {
    "scrolled": true
   },
   "outputs": [
    {
     "data": {
      "text/html": [
       "<div>\n",
       "<style scoped>\n",
       "    .dataframe tbody tr th:only-of-type {\n",
       "        vertical-align: middle;\n",
       "    }\n",
       "\n",
       "    .dataframe tbody tr th {\n",
       "        vertical-align: top;\n",
       "    }\n",
       "\n",
       "    .dataframe thead th {\n",
       "        text-align: right;\n",
       "    }\n",
       "</style>\n",
       "<table border=\"1\" class=\"dataframe\">\n",
       "  <thead>\n",
       "    <tr style=\"text-align: right;\">\n",
       "      <th></th>\n",
       "      <th>Consumer complaint narrative</th>\n",
       "      <th>Company response to consumer</th>\n",
       "    </tr>\n",
       "  </thead>\n",
       "  <tbody>\n",
       "    <tr>\n",
       "      <th>1475344</th>\n",
       "      <td>this company has been notified on multiple occ...</td>\n",
       "      <td>Closed with explanation</td>\n",
       "    </tr>\n",
       "    <tr>\n",
       "      <th>3324754</th>\n",
       "      <td>on xxxx xxxx 2017 i faxed a letter requesting ...</td>\n",
       "      <td>Closed with explanation</td>\n",
       "    </tr>\n",
       "    <tr>\n",
       "      <th>1009716</th>\n",
       "      <td>in accordance with the fair credit reporting a...</td>\n",
       "      <td>Closed with non-monetary relief</td>\n",
       "    </tr>\n",
       "    <tr>\n",
       "      <th>1761039</th>\n",
       "      <td>pressler pressler took 100 of the funds from t...</td>\n",
       "      <td>Closed with explanation</td>\n",
       "    </tr>\n",
       "    <tr>\n",
       "      <th>2770959</th>\n",
       "      <td>transunion xxxx and xxxx continue to fail to d...</td>\n",
       "      <td>Closed with non-monetary relief</td>\n",
       "    </tr>\n",
       "  </tbody>\n",
       "</table>\n",
       "</div>"
      ],
      "text/plain": [
       "                              Consumer complaint narrative  \\\n",
       "1475344  this company has been notified on multiple occ...   \n",
       "3324754  on xxxx xxxx 2017 i faxed a letter requesting ...   \n",
       "1009716  in accordance with the fair credit reporting a...   \n",
       "1761039  pressler pressler took 100 of the funds from t...   \n",
       "2770959  transunion xxxx and xxxx continue to fail to d...   \n",
       "\n",
       "            Company response to consumer  \n",
       "1475344          Closed with explanation  \n",
       "3324754          Closed with explanation  \n",
       "1009716  Closed with non-monetary relief  \n",
       "1761039          Closed with explanation  \n",
       "2770959  Closed with non-monetary relief  "
      ]
     },
     "execution_count": 55,
     "metadata": {},
     "output_type": "execute_result"
    }
   ],
   "source": [
    "text_cols=data[['Consumer complaint narrative',\"Company response to consumer\"]]#important columns\n",
    "text_cols.head()"
   ]
  },
  {
   "cell_type": "code",
   "execution_count": 56,
   "id": "d4bbafd4",
   "metadata": {},
   "outputs": [
    {
     "data": {
      "text/plain": [
       "(10000, 2)"
      ]
     },
     "execution_count": 56,
     "metadata": {},
     "output_type": "execute_result"
    }
   ],
   "source": [
    "text_cols.shape"
   ]
  },
  {
   "cell_type": "code",
   "execution_count": 57,
   "id": "9aeff1f7",
   "metadata": {},
   "outputs": [],
   "source": [
    "tfidf = TfidfVectorizer()\n",
    "tf=tfidf.fit(data['Consumer complaint narrative']+\"\"+data[\"Company response to consumer\"])\n",
    "X_tfidf=tf.transform(data['Consumer complaint narrative']+\"\"+data[\"Company response to consumer\"]).toarray()\n",
    "\n"
   ]
  },
  {
   "cell_type": "code",
   "execution_count": 58,
   "id": "3fa03e16",
   "metadata": {},
   "outputs": [
    {
     "data": {
      "text/plain": [
       "(10000, 23425)"
      ]
     },
     "execution_count": 58,
     "metadata": {},
     "output_type": "execute_result"
    }
   ],
   "source": [
    "X_tfidf.shape"
   ]
  },
  {
   "cell_type": "code",
   "execution_count": 59,
   "id": "16ffbf69",
   "metadata": {},
   "outputs": [],
   "source": [
    "prod_dict=dict(data[[\"Product\",\"Product_id\"]].values) \n",
    "sort_dict=sorted(prod_dict.items())"
   ]
  },
  {
   "cell_type": "code",
   "execution_count": 60,
   "id": "1cb15439",
   "metadata": {},
   "outputs": [],
   "source": [
    "df_prod=pd.DataFrame(sort_dict,columns=[\"Product\",\"Id\"])\n",
    "df_prod=df_prod.set_index(\"Id\")\n"
   ]
  },
  {
   "cell_type": "code",
   "execution_count": 61,
   "id": "b70b721b",
   "metadata": {},
   "outputs": [
    {
     "data": {
      "text/html": [
       "<div>\n",
       "<style scoped>\n",
       "    .dataframe tbody tr th:only-of-type {\n",
       "        vertical-align: middle;\n",
       "    }\n",
       "\n",
       "    .dataframe tbody tr th {\n",
       "        vertical-align: top;\n",
       "    }\n",
       "\n",
       "    .dataframe thead th {\n",
       "        text-align: right;\n",
       "    }\n",
       "</style>\n",
       "<table border=\"1\" class=\"dataframe\">\n",
       "  <thead>\n",
       "    <tr style=\"text-align: right;\">\n",
       "      <th></th>\n",
       "      <th>Product</th>\n",
       "    </tr>\n",
       "    <tr>\n",
       "      <th>Id</th>\n",
       "      <th></th>\n",
       "    </tr>\n",
       "  </thead>\n",
       "  <tbody>\n",
       "    <tr>\n",
       "      <th>0</th>\n",
       "      <td>Bank account or service</td>\n",
       "    </tr>\n",
       "    <tr>\n",
       "      <th>1</th>\n",
       "      <td>Checking or savings account</td>\n",
       "    </tr>\n",
       "    <tr>\n",
       "      <th>2</th>\n",
       "      <td>Consumer Loan</td>\n",
       "    </tr>\n",
       "    <tr>\n",
       "      <th>3</th>\n",
       "      <td>Credit card or prepaid card</td>\n",
       "    </tr>\n",
       "    <tr>\n",
       "      <th>4</th>\n",
       "      <td>Credit reporting, credit repair, or other</td>\n",
       "    </tr>\n",
       "    <tr>\n",
       "      <th>5</th>\n",
       "      <td>Debt collection</td>\n",
       "    </tr>\n",
       "    <tr>\n",
       "      <th>6</th>\n",
       "      <td>Money transfer, virtual currency, or money ser...</td>\n",
       "    </tr>\n",
       "    <tr>\n",
       "      <th>7</th>\n",
       "      <td>Money transfers</td>\n",
       "    </tr>\n",
       "    <tr>\n",
       "      <th>8</th>\n",
       "      <td>Mortgage</td>\n",
       "    </tr>\n",
       "    <tr>\n",
       "      <th>9</th>\n",
       "      <td>Other financial service</td>\n",
       "    </tr>\n",
       "    <tr>\n",
       "      <th>10</th>\n",
       "      <td>Payday loan, title loan, or personal loan</td>\n",
       "    </tr>\n",
       "    <tr>\n",
       "      <th>11</th>\n",
       "      <td>Student loan</td>\n",
       "    </tr>\n",
       "    <tr>\n",
       "      <th>12</th>\n",
       "      <td>Vehicle loan or lease</td>\n",
       "    </tr>\n",
       "  </tbody>\n",
       "</table>\n",
       "</div>"
      ],
      "text/plain": [
       "                                              Product\n",
       "Id                                                   \n",
       "0                             Bank account or service\n",
       "1                         Checking or savings account\n",
       "2                                       Consumer Loan\n",
       "3                         Credit card or prepaid card\n",
       "4           Credit reporting, credit repair, or other\n",
       "5                                     Debt collection\n",
       "6   Money transfer, virtual currency, or money ser...\n",
       "7                                     Money transfers\n",
       "8                                            Mortgage\n",
       "9                             Other financial service\n",
       "10          Payday loan, title loan, or personal loan\n",
       "11                                       Student loan\n",
       "12                              Vehicle loan or lease"
      ]
     },
     "execution_count": 61,
     "metadata": {},
     "output_type": "execute_result"
    }
   ],
   "source": [
    "df_prod"
   ]
  },
  {
   "cell_type": "code",
   "execution_count": 62,
   "id": "e423b62f",
   "metadata": {},
   "outputs": [
    {
     "name": "stdout",
     "output_type": "stream",
     "text": [
      "['37293733' 'chargeoffsloans' 'aggravaled' ... 'mortgage' 'cordially'\n",
      " 'lexington']\n",
      "['37293733' 'chargeoffsloans' 'aggravaled' ... 'mortgage' 'cordially'\n",
      " 'lexington']\n",
      "['37293733' 'chargeoffsloans' 'aggravaled' ... 'mortgage' 'cordially'\n",
      " 'lexington']\n",
      "['37293733' 'chargeoffsloans' 'aggravaled' ... 'mortgage' 'cordially'\n",
      " 'lexington']\n",
      "['37293733' 'chargeoffsloans' 'aggravaled' ... 'mortgage' 'cordially'\n",
      " 'lexington']\n",
      "['37293733' 'chargeoffsloans' 'aggravaled' ... 'mortgage' 'cordially'\n",
      " 'lexington']\n",
      "['37293733' 'chargeoffsloans' 'aggravaled' ... 'mortgage' 'cordially'\n",
      " 'lexington']\n",
      "['37293733' 'chargeoffsloans' 'aggravaled' ... 'mortgage' 'cordially'\n",
      " 'lexington']\n",
      "['37293733' 'chargeoffsloans' 'aggravaled' ... 'mortgage' 'cordially'\n",
      " 'lexington']\n",
      "['37293733' 'chargeoffsloans' 'aggravaled' ... 'mortgage' 'cordially'\n",
      " 'lexington']\n",
      "['37293733' 'chargeoffsloans' 'aggravaled' ... 'mortgage' 'cordially'\n",
      " 'lexington']\n",
      "['37293733' 'chargeoffsloans' 'aggravaled' ... 'mortgage' 'cordially'\n",
      " 'lexington']\n",
      "['37293733' 'chargeoffsloans' 'aggravaled' ... 'mortgage' 'cordially'\n",
      " 'lexington']\n"
     ]
    }
   ],
   "source": [
    "labels=data[\"Product_id\"]  #checking correlation\n",
    "for Product, Product_id in sort_dict:\n",
    "    features = chi2(X_tfidf, labels)\n",
    "    indices = np.argsort(features[0])\n",
    "    feature_name = np.array(tfidf.get_feature_names_out())[indices]\n",
    "    print(feature_name)\n",
    "  "
   ]
  },
  {
   "cell_type": "code",
   "execution_count": 63,
   "id": "d3a35f88",
   "metadata": {},
   "outputs": [
    {
     "data": {
      "text/html": [
       "<div>\n",
       "<style scoped>\n",
       "    .dataframe tbody tr th:only-of-type {\n",
       "        vertical-align: middle;\n",
       "    }\n",
       "\n",
       "    .dataframe tbody tr th {\n",
       "        vertical-align: top;\n",
       "    }\n",
       "\n",
       "    .dataframe thead th {\n",
       "        text-align: right;\n",
       "    }\n",
       "</style>\n",
       "<table border=\"1\" class=\"dataframe\">\n",
       "  <thead>\n",
       "    <tr style=\"text-align: right;\">\n",
       "      <th></th>\n",
       "      <th>Product</th>\n",
       "      <th>Consumer complaint narrative</th>\n",
       "      <th>Company response to consumer</th>\n",
       "      <th>Product_id</th>\n",
       "    </tr>\n",
       "  </thead>\n",
       "  <tbody>\n",
       "    <tr>\n",
       "      <th>1475344</th>\n",
       "      <td>Credit reporting, credit repair, or other</td>\n",
       "      <td>this company has been notified on multiple occ...</td>\n",
       "      <td>Closed with explanation</td>\n",
       "      <td>4</td>\n",
       "    </tr>\n",
       "    <tr>\n",
       "      <th>3324754</th>\n",
       "      <td>Debt collection</td>\n",
       "      <td>on xxxx xxxx 2017 i faxed a letter requesting ...</td>\n",
       "      <td>Closed with explanation</td>\n",
       "      <td>5</td>\n",
       "    </tr>\n",
       "    <tr>\n",
       "      <th>1009716</th>\n",
       "      <td>Credit reporting, credit repair, or other</td>\n",
       "      <td>in accordance with the fair credit reporting a...</td>\n",
       "      <td>Closed with non-monetary relief</td>\n",
       "      <td>4</td>\n",
       "    </tr>\n",
       "    <tr>\n",
       "      <th>1761039</th>\n",
       "      <td>Debt collection</td>\n",
       "      <td>pressler pressler took 100 of the funds from t...</td>\n",
       "      <td>Closed with explanation</td>\n",
       "      <td>5</td>\n",
       "    </tr>\n",
       "  </tbody>\n",
       "</table>\n",
       "</div>"
      ],
      "text/plain": [
       "                                           Product  \\\n",
       "1475344  Credit reporting, credit repair, or other   \n",
       "3324754                            Debt collection   \n",
       "1009716  Credit reporting, credit repair, or other   \n",
       "1761039                            Debt collection   \n",
       "\n",
       "                              Consumer complaint narrative  \\\n",
       "1475344  this company has been notified on multiple occ...   \n",
       "3324754  on xxxx xxxx 2017 i faxed a letter requesting ...   \n",
       "1009716  in accordance with the fair credit reporting a...   \n",
       "1761039  pressler pressler took 100 of the funds from t...   \n",
       "\n",
       "            Company response to consumer  Product_id  \n",
       "1475344          Closed with explanation           4  \n",
       "3324754          Closed with explanation           5  \n",
       "1009716  Closed with non-monetary relief           4  \n",
       "1761039          Closed with explanation           5  "
      ]
     },
     "execution_count": 63,
     "metadata": {},
     "output_type": "execute_result"
    }
   ],
   "source": [
    "data.head(4)"
   ]
  },
  {
   "cell_type": "code",
   "execution_count": 89,
   "id": "b4f9c423",
   "metadata": {},
   "outputs": [],
   "source": [
    "X=X_tfidf \n",
    "y = data['Product'] \n"
   ]
  },
  {
   "cell_type": "code",
   "execution_count": 90,
   "id": "614e8f29",
   "metadata": {},
   "outputs": [],
   "source": [
    "X_train, X_test, y_train, y_test = train_test_split(X, y,test_size=0.25,random_state = 42)"
   ]
  },
  {
   "cell_type": "code",
   "execution_count": 91,
   "id": "71943b78",
   "metadata": {},
   "outputs": [],
   "source": [
    "model=LogisticRegression()#baseline model\n",
    "model.fit(X_train,y_train)\n",
    "y_pred=model.predict(X_test)\n"
   ]
  },
  {
   "cell_type": "code",
   "execution_count": 92,
   "id": "09322482",
   "metadata": {
    "scrolled": true
   },
   "outputs": [
    {
     "name": "stdout",
     "output_type": "stream",
     "text": [
      "                                                    precision    recall  f1-score   support\n",
      "\n",
      "                           Bank account or service       0.00      0.00      0.00        23\n",
      "                       Checking or savings account       0.64      0.71      0.67       122\n",
      "                                     Consumer Loan       0.00      0.00      0.00        19\n",
      "                       Credit card or prepaid card       0.71      0.72      0.72       247\n",
      "         Credit reporting, credit repair, or other       0.81      0.92      0.86      1218\n",
      "                                   Debt collection       0.76      0.71      0.74       437\n",
      "Money transfer, virtual currency, or money service       0.95      0.36      0.52        53\n",
      "                                   Money transfers       0.00      0.00      0.00         1\n",
      "                                          Mortgage       0.80      0.87      0.83       217\n",
      "         Payday loan, title loan, or personal loan       0.50      0.03      0.06        30\n",
      "                                      Student loan       0.89      0.64      0.74        74\n",
      "                             Vehicle loan or lease       0.59      0.22      0.32        59\n",
      "\n",
      "                                          accuracy                           0.79      2500\n",
      "                                         macro avg       0.55      0.43      0.46      2500\n",
      "                                      weighted avg       0.77      0.79      0.77      2500\n",
      "\n"
     ]
    }
   ],
   "source": [
    "print(metrics.classification_report(y_test, y_pred))"
   ]
  },
  {
   "cell_type": "code",
   "execution_count": 94,
   "id": "76b44be4",
   "metadata": {},
   "outputs": [
    {
     "data": {
      "text/plain": [
       "<Axes: >"
      ]
     },
     "execution_count": 94,
     "metadata": {},
     "output_type": "execute_result"
    },
    {
     "data": {
      "image/png": "[encoded data removed]",
      "text/plain": [
       "<Figure size 640x480 with 2 Axes>"
      ]
     },
     "metadata": {},
     "output_type": "display_data"
    }
   ],
   "source": [
    "conf_mat=metrics.confusion_matrix(y_test, y_pred)\n",
    "sns.heatmap(conf_mat, annot=True,cmap=\"Blues\")"
   ]
  },
  {
   "cell_type": "code",
   "execution_count": null,
   "id": "9c7a611f",
   "metadata": {},
   "outputs": [],
   "source": []
  },
  {
   "cell_type": "code",
   "execution_count": 95,
   "id": "71090614",
   "metadata": {},
   "outputs": [],
   "source": [
    "ml_models = [RandomForestClassifier(n_estimators=100, max_depth=6, random_state=42),\n",
    "    LinearSVC(),\n",
    "    MultinomialNB(),\n",
    "   lgb.LGBMClassifier()\n",
    "             \n",
    "]\n",
    "\n"
   ]
  },
  {
   "cell_type": "code",
   "execution_count": 96,
   "id": "65ed913b",
   "metadata": {},
   "outputs": [
    {
     "name": "stdout",
     "output_type": "stream",
     "text": [
      "[LightGBM] [Warning] Auto-choosing col-wise multi-threading, the overhead of testing was 0.045033 seconds.\n",
      "You can set `force_col_wise=true` to remove the overhead.\n",
      "[LightGBM] [Info] Total Bins 136066\n",
      "[LightGBM] [Info] Number of data points in the train set: 6666, number of used features: 2639\n",
      "[LightGBM] [Info] Start training from score -4.350428\n",
      "[LightGBM] [Info] Start training from score -2.891272\n",
      "[LightGBM] [Info] Start training from score -4.912955\n",
      "[LightGBM] [Info] Start training from score -2.346437\n",
      "[LightGBM] [Info] Start training from score -0.735746\n",
      "[LightGBM] [Info] Start training from score -1.760742\n",
      "[LightGBM] [Info] Start training from score -3.723371\n",
      "[LightGBM] [Info] Start training from score -6.858865\n",
      "[LightGBM] [Info] Start training from score -2.428048\n",
      "[LightGBM] [Info] Start training from score -4.316139\n",
      "[LightGBM] [Info] Start training from score -3.476899\n",
      "[LightGBM] [Info] Start training from score -3.921973\n",
      "[LightGBM] [Warning] No further splits with positive gain, best gain: -inf\n",
      "[LightGBM] [Warning] No further splits with positive gain, best gain: -inf\n",
      "[LightGBM] [Warning] No further splits with positive gain, best gain: -inf\n",
      "[LightGBM] [Warning] No further splits with positive gain, best gain: -inf\n",
      "[LightGBM] [Warning] No further splits with positive gain, best gain: -inf\n",
      "[LightGBM] [Warning] No further splits with positive gain, best gain: -inf\n",
      "[LightGBM] [Warning] No further splits with positive gain, best gain: -inf\n",
      "[LightGBM] [Warning] No further splits with positive gain, best gain: -inf\n",
      "[LightGBM] [Warning] No further splits with positive gain, best gain: -inf\n",
      "[LightGBM] [Warning] No further splits with positive gain, best gain: -inf\n",
      "[LightGBM] [Warning] No further splits with positive gain, best gain: -inf\n",
      "[LightGBM] [Warning] No further splits with positive gain, best gain: -inf\n",
      "[LightGBM] [Warning] No further splits with positive gain, best gain: -inf\n",
      "[LightGBM] [Warning] No further splits with positive gain, best gain: -inf\n",
      "[LightGBM] [Warning] No further splits with positive gain, best gain: -inf\n",
      "[LightGBM] [Warning] No further splits with positive gain, best gain: -inf\n",
      "[LightGBM] [Warning] No further splits with positive gain, best gain: -inf\n",
      "[LightGBM] [Warning] No further splits with positive gain, best gain: -inf\n",
      "[LightGBM] [Warning] No further splits with positive gain, best gain: -inf\n",
      "[LightGBM] [Warning] No further splits with positive gain, best gain: -inf\n",
      "[LightGBM] [Warning] No further splits with positive gain, best gain: -inf\n",
      "[LightGBM] [Warning] No further splits with positive gain, best gain: -inf\n",
      "[LightGBM] [Warning] No further splits with positive gain, best gain: -inf\n",
      "[LightGBM] [Warning] No further splits with positive gain, best gain: -inf\n",
      "[LightGBM] [Warning] No further splits with positive gain, best gain: -inf\n",
      "[LightGBM] [Warning] No further splits with positive gain, best gain: -inf\n",
      "[LightGBM] [Warning] No further splits with positive gain, best gain: -inf\n",
      "[LightGBM] [Warning] No further splits with positive gain, best gain: -inf\n",
      "[LightGBM] [Warning] No further splits with positive gain, best gain: -inf\n",
      "[LightGBM] [Warning] No further splits with positive gain, best gain: -inf\n",
      "[LightGBM] [Warning] No further splits with positive gain, best gain: -inf\n",
      "[LightGBM] [Warning] No further splits with positive gain, best gain: -inf\n",
      "[LightGBM] [Warning] No further splits with positive gain, best gain: -inf\n",
      "[LightGBM] [Warning] No further splits with positive gain, best gain: -inf\n",
      "[LightGBM] [Warning] No further splits with positive gain, best gain: -inf\n",
      "[LightGBM] [Warning] No further splits with positive gain, best gain: -inf\n",
      "[LightGBM] [Warning] No further splits with positive gain, best gain: -inf\n",
      "[LightGBM] [Warning] No further splits with positive gain, best gain: -inf\n",
      "[LightGBM] [Warning] No further splits with positive gain, best gain: -inf\n",
      "[LightGBM] [Warning] No further splits with positive gain, best gain: -inf\n",
      "[LightGBM] [Warning] No further splits with positive gain, best gain: -inf\n",
      "[LightGBM] [Warning] No further splits with positive gain, best gain: -inf\n",
      "[LightGBM] [Warning] No further splits with positive gain, best gain: -inf\n",
      "[LightGBM] [Warning] No further splits with positive gain, best gain: -inf\n",
      "[LightGBM] [Warning] No further splits with positive gain, best gain: -inf\n",
      "[LightGBM] [Warning] No further splits with positive gain, best gain: -inf\n",
      "[LightGBM] [Warning] No further splits with positive gain, best gain: -inf\n",
      "[LightGBM] [Warning] No further splits with positive gain, best gain: -inf\n",
      "[LightGBM] [Warning] No further splits with positive gain, best gain: -inf\n",
      "[LightGBM] [Warning] No further splits with positive gain, best gain: -inf\n",
      "[LightGBM] [Warning] No further splits with positive gain, best gain: -inf\n",
      "[LightGBM] [Warning] No further splits with positive gain, best gain: -inf\n",
      "[LightGBM] [Warning] No further splits with positive gain, best gain: -inf\n",
      "[LightGBM] [Warning] No further splits with positive gain, best gain: -inf\n",
      "[LightGBM] [Warning] No further splits with positive gain, best gain: -inf\n",
      "[LightGBM] [Warning] No further splits with positive gain, best gain: -inf\n",
      "[LightGBM] [Warning] No further splits with positive gain, best gain: -inf\n",
      "[LightGBM] [Warning] No further splits with positive gain, best gain: -inf\n",
      "[LightGBM] [Warning] Auto-choosing row-wise multi-threading, the overhead of testing was 0.051601 seconds.\n",
      "You can set `force_row_wise=true` to remove the overhead.\n",
      "And if memory is not enough, you can set `force_col_wise=true`.\n",
      "[LightGBM] [Info] Total Bins 136077\n",
      "[LightGBM] [Info] Number of data points in the train set: 6667, number of used features: 2647\n",
      "[LightGBM] [Info] Start training from score -4.350578\n",
      "[LightGBM] [Info] Start training from score -2.894129\n",
      "[LightGBM] [Info] Start training from score -4.913105\n",
      "[LightGBM] [Info] Start training from score -2.346587\n",
      "[LightGBM] [Info] Start training from score -0.735896\n",
      "[LightGBM] [Info] Start training from score -1.760892\n",
      "[LightGBM] [Info] Start training from score -3.723521\n",
      "[LightGBM] [Info] Start training from score -6.859015\n",
      "[LightGBM] [Info] Start training from score -2.428198\n",
      "[LightGBM] [Info] Start training from score -8.804925\n",
      "[LightGBM] [Info] Start training from score -4.316289\n",
      "[LightGBM] [Info] Start training from score -3.472206\n",
      "[LightGBM] [Info] Start training from score -3.922123\n",
      "[LightGBM] [Warning] No further splits with positive gain, best gain: -inf\n",
      "[LightGBM] [Warning] No further splits with positive gain, best gain: -inf\n",
      "[LightGBM] [Warning] No further splits with positive gain, best gain: -inf\n",
      "[LightGBM] [Warning] No further splits with positive gain, best gain: -inf\n",
      "[LightGBM] [Warning] No further splits with positive gain, best gain: -inf\n",
      "[LightGBM] [Warning] No further splits with positive gain, best gain: -inf\n",
      "[LightGBM] [Warning] No further splits with positive gain, best gain: -inf\n",
      "[LightGBM] [Warning] No further splits with positive gain, best gain: -inf\n",
      "[LightGBM] [Warning] No further splits with positive gain, best gain: -inf\n",
      "[LightGBM] [Warning] Auto-choosing row-wise multi-threading, the overhead of testing was 0.068153 seconds.\n",
      "You can set `force_row_wise=true` to remove the overhead.\n",
      "And if memory is not enough, you can set `force_col_wise=true`.\n",
      "[LightGBM] [Info] Total Bins 136161\n",
      "[LightGBM] [Info] Number of data points in the train set: 6667, number of used features: 2666\n",
      "[LightGBM] [Info] Start training from score -4.350578\n",
      "[LightGBM] [Info] Start training from score -2.894129\n",
      "[LightGBM] [Info] Start training from score -4.933724\n",
      "[LightGBM] [Info] Start training from score -2.346587\n",
      "[LightGBM] [Info] Start training from score -0.735896\n",
      "[LightGBM] [Info] Start training from score -1.760892\n",
      "[LightGBM] [Info] Start training from score -3.717329\n",
      "[LightGBM] [Info] Start training from score -7.013166\n",
      "[LightGBM] [Info] Start training from score -2.428198\n",
      "[LightGBM] [Info] Start training from score -8.804925\n",
      "[LightGBM] [Info] Start training from score -4.305116\n",
      "[LightGBM] [Info] Start training from score -3.472206\n",
      "[LightGBM] [Info] Start training from score -3.922123\n",
      "[LightGBM] [Warning] No further splits with positive gain, best gain: -inf\n",
      "[LightGBM] [Warning] No further splits with positive gain, best gain: -inf\n",
      "[LightGBM] [Warning] No further splits with positive gain, best gain: -inf\n",
      "[LightGBM] [Warning] No further splits with positive gain, best gain: -inf\n",
      "[LightGBM] [Warning] No further splits with positive gain, best gain: -inf\n",
      "[LightGBM] [Warning] No further splits with positive gain, best gain: -inf\n",
      "[LightGBM] [Warning] No further splits with positive gain, best gain: -inf\n",
      "[LightGBM] [Warning] No further splits with positive gain, best gain: -inf\n",
      "[LightGBM] [Warning] No further splits with positive gain, best gain: -inf\n",
      "[LightGBM] [Warning] No further splits with positive gain, best gain: -inf\n",
      "[LightGBM] [Warning] No further splits with positive gain, best gain: -inf\n",
      "[LightGBM] [Warning] No further splits with positive gain, best gain: -inf\n",
      "[LightGBM] [Warning] No further splits with positive gain, best gain: -inf\n",
      "[LightGBM] [Warning] No further splits with positive gain, best gain: -inf\n",
      "[LightGBM] [Warning] No further splits with positive gain, best gain: -inf\n",
      "[LightGBM] [Warning] No further splits with positive gain, best gain: -inf\n",
      "[LightGBM] [Warning] No further splits with positive gain, best gain: -inf\n",
      "[LightGBM] [Warning] No further splits with positive gain, best gain: -inf\n",
      "[LightGBM] [Warning] No further splits with positive gain, best gain: -inf\n",
      "[LightGBM] [Warning] No further splits with positive gain, best gain: -inf\n",
      "[LightGBM] [Warning] No further splits with positive gain, best gain: -inf\n",
      "[LightGBM] [Warning] No further splits with positive gain, best gain: -inf\n",
      "[LightGBM] [Warning] No further splits with positive gain, best gain: -inf\n",
      "[LightGBM] [Warning] No further splits with positive gain, best gain: -inf\n",
      "[LightGBM] [Warning] No further splits with positive gain, best gain: -inf\n",
      "[LightGBM] [Warning] No further splits with positive gain, best gain: -inf\n",
      "[LightGBM] [Warning] No further splits with positive gain, best gain: -inf\n",
      "[LightGBM] [Warning] No further splits with positive gain, best gain: -inf\n",
      "[LightGBM] [Warning] No further splits with positive gain, best gain: -inf\n",
      "[LightGBM] [Warning] No further splits with positive gain, best gain: -inf\n",
      "[LightGBM] [Warning] No further splits with positive gain, best gain: -inf\n",
      "[LightGBM] [Warning] No further splits with positive gain, best gain: -inf\n",
      "[LightGBM] [Warning] No further splits with positive gain, best gain: -inf\n",
      "[LightGBM] [Warning] No further splits with positive gain, best gain: -inf\n",
      "[LightGBM] [Warning] No further splits with positive gain, best gain: -inf\n",
      "[LightGBM] [Warning] No further splits with positive gain, best gain: -inf\n",
      "[LightGBM] [Warning] No further splits with positive gain, best gain: -inf\n",
      "[LightGBM] [Warning] No further splits with positive gain, best gain: -inf\n",
      "[LightGBM] [Warning] No further splits with positive gain, best gain: -inf\n",
      "[LightGBM] [Warning] No further splits with positive gain, best gain: -inf\n",
      "[LightGBM] [Warning] No further splits with positive gain, best gain: -inf\n",
      "[LightGBM] [Warning] No further splits with positive gain, best gain: -inf\n",
      "[LightGBM] [Warning] No further splits with positive gain, best gain: -inf\n",
      "[LightGBM] [Warning] No further splits with positive gain, best gain: -inf\n",
      "[LightGBM] [Warning] No further splits with positive gain, best gain: -inf\n",
      "[LightGBM] [Warning] No further splits with positive gain, best gain: -inf\n",
      "[LightGBM] [Warning] No further splits with positive gain, best gain: -inf\n",
      "[LightGBM] [Warning] No further splits with positive gain, best gain: -inf\n",
      "[LightGBM] [Warning] No further splits with positive gain, best gain: -inf\n",
      "[LightGBM] [Warning] No further splits with positive gain, best gain: -inf\n",
      "[LightGBM] [Warning] No further splits with positive gain, best gain: -inf\n",
      "[LightGBM] [Warning] No further splits with positive gain, best gain: -inf\n",
      "[LightGBM] [Warning] No further splits with positive gain, best gain: -inf\n",
      "[LightGBM] [Warning] No further splits with positive gain, best gain: -inf\n",
      "[LightGBM] [Warning] No further splits with positive gain, best gain: -inf\n",
      "[LightGBM] [Warning] No further splits with positive gain, best gain: -inf\n",
      "[LightGBM] [Warning] No further splits with positive gain, best gain: -inf\n",
      "[LightGBM] [Warning] No further splits with positive gain, best gain: -inf\n",
      "[LightGBM] [Warning] No further splits with positive gain, best gain: -inf\n",
      "[LightGBM] [Warning] No further splits with positive gain, best gain: -inf\n",
      "[LightGBM] [Warning] No further splits with positive gain, best gain: -inf\n",
      "[LightGBM] [Warning] No further splits with positive gain, best gain: -inf\n",
      "[LightGBM] [Warning] No further splits with positive gain, best gain: -inf\n",
      "[LightGBM] [Warning] No further splits with positive gain, best gain: -inf\n",
      "[LightGBM] [Warning] No further splits with positive gain, best gain: -inf\n",
      "[LightGBM] [Warning] No further splits with positive gain, best gain: -inf\n",
      "[LightGBM] [Warning] No further splits with positive gain, best gain: -inf\n",
      "[LightGBM] [Warning] No further splits with positive gain, best gain: -inf\n",
      "[LightGBM] [Warning] No further splits with positive gain, best gain: -inf\n",
      "[LightGBM] [Warning] No further splits with positive gain, best gain: -inf\n",
      "[LightGBM] [Warning] No further splits with positive gain, best gain: -inf\n",
      "[LightGBM] [Warning] No further splits with positive gain, best gain: -inf\n",
      "[LightGBM] [Warning] No further splits with positive gain, best gain: -inf\n",
      "[LightGBM] [Warning] No further splits with positive gain, best gain: -inf\n",
      "[LightGBM] [Warning] No further splits with positive gain, best gain: -inf\n",
      "[LightGBM] [Warning] No further splits with positive gain, best gain: -inf\n",
      "[LightGBM] [Warning] No further splits with positive gain, best gain: -inf\n",
      "[LightGBM] [Warning] No further splits with positive gain, best gain: -inf\n",
      "[LightGBM] [Warning] No further splits with positive gain, best gain: -inf\n",
      "[LightGBM] [Warning] No further splits with positive gain, best gain: -inf\n",
      "[LightGBM] [Warning] No further splits with positive gain, best gain: -inf\n",
      "[LightGBM] [Warning] No further splits with positive gain, best gain: -inf\n",
      "[LightGBM] [Warning] No further splits with positive gain, best gain: -inf\n",
      "[LightGBM] [Warning] No further splits with positive gain, best gain: -inf\n",
      "[LightGBM] [Warning] No further splits with positive gain, best gain: -inf\n",
      "[LightGBM] [Warning] No further splits with positive gain, best gain: -inf\n",
      "[LightGBM] [Warning] No further splits with positive gain, best gain: -inf\n",
      "[LightGBM] [Warning] No further splits with positive gain, best gain: -inf\n",
      "[LightGBM] [Warning] No further splits with positive gain, best gain: -inf\n",
      "[LightGBM] [Warning] No further splits with positive gain, best gain: -inf\n",
      "[LightGBM] [Warning] No further splits with positive gain, best gain: -inf\n",
      "[LightGBM] [Warning] No further splits with positive gain, best gain: -inf\n",
      "[LightGBM] [Warning] No further splits with positive gain, best gain: -inf\n",
      "[LightGBM] [Warning] No further splits with positive gain, best gain: -inf\n",
      "[LightGBM] [Warning] No further splits with positive gain, best gain: -inf\n",
      "[LightGBM] [Warning] No further splits with positive gain, best gain: -inf\n",
      "[LightGBM] [Warning] No further splits with positive gain, best gain: -inf\n",
      "[LightGBM] [Warning] No further splits with positive gain, best gain: -inf\n",
      "[LightGBM] [Warning] No further splits with positive gain, best gain: -inf\n",
      "[LightGBM] [Warning] No further splits with positive gain, best gain: -inf\n",
      "[LightGBM] [Warning] No further splits with positive gain, best gain: -inf\n",
      "[LightGBM] [Warning] No further splits with positive gain, best gain: -inf\n",
      "[LightGBM] [Warning] No further splits with positive gain, best gain: -inf\n",
      "[LightGBM] [Warning] No further splits with positive gain, best gain: -inf\n",
      "[LightGBM] [Warning] No further splits with positive gain, best gain: -inf\n",
      "[LightGBM] [Warning] No further splits with positive gain, best gain: -inf\n",
      "[LightGBM] [Warning] No further splits with positive gain, best gain: -inf\n",
      "[LightGBM] [Warning] No further splits with positive gain, best gain: -inf\n",
      "[LightGBM] [Warning] No further splits with positive gain, best gain: -inf\n",
      "[LightGBM] [Warning] No further splits with positive gain, best gain: -inf\n",
      "[LightGBM] [Warning] No further splits with positive gain, best gain: -inf\n",
      "[LightGBM] [Warning] No further splits with positive gain, best gain: -inf\n",
      "[LightGBM] [Warning] No further splits with positive gain, best gain: -inf\n",
      "[LightGBM] [Warning] No further splits with positive gain, best gain: -inf\n",
      "[LightGBM] [Warning] No further splits with positive gain, best gain: -inf\n",
      "[LightGBM] [Warning] No further splits with positive gain, best gain: -inf\n"
     ]
    }
   ],
   "source": [
    "cv=3\n",
    "result_df = pd.DataFrame(index=range(cv*len(ml_models)))\n",
    "results= []\n",
    "for model in ml_models:\n",
    "    scores = cross_val_score(model, X, y, scoring='accuracy', cv=cv)\n",
    "    for fold_num, accu_val in enumerate(scores):\n",
    "        results.append((model, fold_num, accu_val))\n",
    "cv_df = pd.DataFrame(results, columns=['ML_Model', 'fold_num', 'accuracy'])"
   ]
  },
  {
   "cell_type": "code",
   "execution_count": 97,
   "id": "dd6958a4",
   "metadata": {},
   "outputs": [
    {
     "data": {
      "text/html": [
       "<style>#sk-container-id-3 {color: black;background-color: white;}#sk-container-id-3 pre{padding: 0;}#sk-container-id-3 div.sk-toggleable {background-color: white;}#sk-container-id-3 label.sk-toggleable__label {cursor: pointer;display: block;width: 100%;margin-bottom: 0;padding: 0.3em;box-sizing: border-box;text-align: center;}#sk-container-id-3 label.sk-toggleable__label-arrow:before {content: \"▸\";float: left;margin-right: 0.25em;color: #696969;}#sk-container-id-3 label.sk-toggleable__label-arrow:hover:before {color: black;}#sk-container-id-3 div.sk-estimator:hover label.sk-toggleable__label-arrow:before {color: black;}#sk-container-id-3 div.sk-toggleable__content {max-height: 0;max-width: 0;overflow: hidden;text-align: left;background-color: #f0f8ff;}#sk-container-id-3 div.sk-toggleable__content pre {margin: 0.2em;color: black;border-radius: 0.25em;background-color: #f0f8ff;}#sk-container-id-3 input.sk-toggleable__control:checked~div.sk-toggleable__content {max-height: 200px;max-width: 100%;overflow: auto;}#sk-container-id-3 input.sk-toggleable__control:checked~label.sk-toggleable__label-arrow:before {content: \"▾\";}#sk-container-id-3 div.sk-estimator input.sk-toggleable__control:checked~label.sk-toggleable__label {background-color: #d4ebff;}#sk-container-id-3 div.sk-label input.sk-toggleable__control:checked~label.sk-toggleable__label {background-color: #d4ebff;}#sk-container-id-3 input.sk-hidden--visually {border: 0;clip: rect(1px 1px 1px 1px);clip: rect(1px, 1px, 1px, 1px);height: 1px;margin: -1px;overflow: hidden;padding: 0;position: absolute;width: 1px;}#sk-container-id-3 div.sk-estimator {font-family: monospace;background-color: #f0f8ff;border: 1px dotted black;border-radius: 0.25em;box-sizing: border-box;margin-bottom: 0.5em;}#sk-container-id-3 div.sk-estimator:hover {background-color: #d4ebff;}#sk-container-id-3 div.sk-parallel-item::after {content: \"\";width: 100%;border-bottom: 1px solid gray;flex-grow: 1;}#sk-container-id-3 div.sk-label:hover label.sk-toggleable__label {background-color: #d4ebff;}#sk-container-id-3 div.sk-serial::before {content: \"\";position: absolute;border-left: 1px solid gray;box-sizing: border-box;top: 0;bottom: 0;left: 50%;z-index: 0;}#sk-container-id-3 div.sk-serial {display: flex;flex-direction: column;align-items: center;background-color: white;padding-right: 0.2em;padding-left: 0.2em;position: relative;}#sk-container-id-3 div.sk-item {position: relative;z-index: 1;}#sk-container-id-3 div.sk-parallel {display: flex;align-items: stretch;justify-content: center;background-color: white;position: relative;}#sk-container-id-3 div.sk-item::before, #sk-container-id-3 div.sk-parallel-item::before {content: \"\";position: absolute;border-left: 1px solid gray;box-sizing: border-box;top: 0;bottom: 0;left: 50%;z-index: -1;}#sk-container-id-3 div.sk-parallel-item {display: flex;flex-direction: column;z-index: 1;position: relative;background-color: white;}#sk-container-id-3 div.sk-parallel-item:first-child::after {align-self: flex-end;width: 50%;}#sk-container-id-3 div.sk-parallel-item:last-child::after {align-self: flex-start;width: 50%;}#sk-container-id-3 div.sk-parallel-item:only-child::after {width: 0;}#sk-container-id-3 div.sk-dashed-wrapped {border: 1px dashed gray;margin: 0 0.4em 0.5em 0.4em;box-sizing: border-box;padding-bottom: 0.4em;background-color: white;}#sk-container-id-3 div.sk-label label {font-family: monospace;font-weight: bold;display: inline-block;line-height: 1.2em;}#sk-container-id-3 div.sk-label-container {text-align: center;}#sk-container-id-3 div.sk-container {/* jupyter's `normalize.less` sets `[hidden] { display: none; }` but bootstrap.min.css set `[hidden] { display: none !important; }` so we also need the `!important` here to be able to override the default hidden behavior on the sphinx rendered scikit-learn.org. See: https://github.com/scikit-learn/scikit-learn/issues/21755 */display: inline-block !important;position: relative;}#sk-container-id-3 div.sk-text-repr-fallback {display: none;}</style><div id=\"sk-container-id-3\" class=\"sk-top-container\"><div class=\"sk-text-repr-fallback\"><pre>LinearSVC()</pre><b>In a Jupyter environment, please rerun this cell to show the HTML representation or trust the notebook. <br />On GitHub, the HTML representation is unable to render, please try loading this page with nbviewer.org.</b></div><div class=\"sk-container\" hidden><div class=\"sk-item\"><div class=\"sk-estimator sk-toggleable\"><input class=\"sk-toggleable__control sk-hidden--visually\" id=\"sk-estimator-id-3\" type=\"checkbox\" checked><label for=\"sk-estimator-id-3\" class=\"sk-toggleable__label sk-toggleable__label-arrow\">LinearSVC</label><div class=\"sk-toggleable__content\"><pre>LinearSVC()</pre></div></div></div></div></div>"
      ],
      "text/plain": [
       "LinearSVC()"
      ]
     },
     "execution_count": 97,
     "metadata": {},
     "output_type": "execute_result"
    }
   ],
   "source": [
    "max_idx=cv_df[\"accuracy\"].argmax()\n",
    "best_model=cv_df.iloc[max_idx][\"ML_Model\"]\n",
    "best_model\n",
    "# so best model from cv_df is LinearSVC()"
   ]
  },
  {
   "cell_type": "code",
   "execution_count": 98,
   "id": "39aaed98",
   "metadata": {},
   "outputs": [],
   "source": [
    "X_train, X_test, y_train, y_test = train_test_split(X, y,test_size=0.25,random_state = 42)#train test split with test size as 0.25"
   ]
  },
  {
   "cell_type": "code",
   "execution_count": 99,
   "id": "d5ebcb6e",
   "metadata": {},
   "outputs": [
    {
     "name": "stdout",
     "output_type": "stream",
     "text": [
      "Fitting 5 folds for each of 8 candidates, totalling 40 fits\n",
      "[CV 1/5] END ..................C=0.01, penalty=l1;, score=nan total time=   0.6s\n",
      "[CV 2/5] END ..................C=0.01, penalty=l1;, score=nan total time=   0.6s\n",
      "[CV 3/5] END ..................C=0.01, penalty=l1;, score=nan total time=   0.6s\n",
      "[CV 4/5] END ..................C=0.01, penalty=l1;, score=nan total time=   0.5s\n",
      "[CV 5/5] END ..................C=0.01, penalty=l1;, score=nan total time=   0.5s\n",
      "[CV 1/5] END ................C=0.01, penalty=l2;, score=0.625 total time=   1.3s\n",
      "[CV 2/5] END ................C=0.01, penalty=l2;, score=0.627 total time=   1.3s\n",
      "[CV 3/5] END ................C=0.01, penalty=l2;, score=0.643 total time=   1.3s\n",
      "[CV 4/5] END ................C=0.01, penalty=l2;, score=0.621 total time=   1.3s\n",
      "[CV 5/5] END ................C=0.01, penalty=l2;, score=0.616 total time=   1.3s\n",
      "[CV 1/5] END ...................C=0.1, penalty=l1;, score=nan total time=   0.5s\n",
      "[CV 2/5] END ...................C=0.1, penalty=l1;, score=nan total time=   0.5s\n",
      "[CV 3/5] END ...................C=0.1, penalty=l1;, score=nan total time=   0.5s\n",
      "[CV 4/5] END ...................C=0.1, penalty=l1;, score=nan total time=   0.5s\n",
      "[CV 5/5] END ...................C=0.1, penalty=l1;, score=nan total time=   0.5s\n",
      "[CV 1/5] END .................C=0.1, penalty=l2;, score=0.780 total time=   1.3s\n",
      "[CV 2/5] END .................C=0.1, penalty=l2;, score=0.763 total time=   1.3s\n",
      "[CV 3/5] END .................C=0.1, penalty=l2;, score=0.773 total time=   1.3s\n",
      "[CV 4/5] END .................C=0.1, penalty=l2;, score=0.760 total time=   1.3s\n",
      "[CV 5/5] END .................C=0.1, penalty=l2;, score=0.783 total time=   1.3s\n",
      "[CV 1/5] END ...................C=1.0, penalty=l1;, score=nan total time=   0.4s\n",
      "[CV 2/5] END ...................C=1.0, penalty=l1;, score=nan total time=   0.4s\n",
      "[CV 3/5] END ...................C=1.0, penalty=l1;, score=nan total time=   0.5s\n",
      "[CV 4/5] END ...................C=1.0, penalty=l1;, score=nan total time=   0.5s\n",
      "[CV 5/5] END ...................C=1.0, penalty=l1;, score=nan total time=   0.5s\n",
      "[CV 1/5] END .................C=1.0, penalty=l2;, score=0.789 total time=   1.4s\n",
      "[CV 2/5] END .................C=1.0, penalty=l2;, score=0.783 total time=   1.4s\n",
      "[CV 3/5] END .................C=1.0, penalty=l2;, score=0.788 total time=   1.4s\n",
      "[CV 4/5] END .................C=1.0, penalty=l2;, score=0.781 total time=   1.7s\n",
      "[CV 5/5] END .................C=1.0, penalty=l2;, score=0.791 total time=   2.3s\n",
      "[CV 1/5] END ..................C=10.0, penalty=l1;, score=nan total time=   0.7s\n",
      "[CV 2/5] END ..................C=10.0, penalty=l1;, score=nan total time=   0.5s\n",
      "[CV 3/5] END ..................C=10.0, penalty=l1;, score=nan total time=   0.5s\n",
      "[CV 4/5] END ..................C=10.0, penalty=l1;, score=nan total time=   0.5s\n",
      "[CV 5/5] END ..................C=10.0, penalty=l1;, score=nan total time=   0.5s\n",
      "[CV 1/5] END ................C=10.0, penalty=l2;, score=0.771 total time=   2.5s\n",
      "[CV 2/5] END ................C=10.0, penalty=l2;, score=0.769 total time=   2.8s\n",
      "[CV 3/5] END ................C=10.0, penalty=l2;, score=0.767 total time=   3.0s\n",
      "[CV 4/5] END ................C=10.0, penalty=l2;, score=0.770 total time=   2.5s\n",
      "[CV 5/5] END ................C=10.0, penalty=l2;, score=0.787 total time=   2.5s\n",
      "{'C': 1.0, 'penalty': 'l2'}\n",
      "LinearSVC()\n"
     ]
    }
   ],
   "source": [
    "param_grid = { 'C': [0.01, 0.1, 1.0, 10.0],  #tuning Linear svc model to chose best parameter\n",
    "              'penalty': ['l1', 'l2'],\n",
    "           }\n",
    "grid= GridSearchCV(best_model, param_grid, cv=5, scoring='accuracy',verbose = 3)\n",
    "grid.fit(X_train, y_train)\n",
    "print(grid.best_params_)\n",
    "print(grid.best_estimator_)"
   ]
  },
  {
   "cell_type": "markdown",
   "id": "bc20dcbc",
   "metadata": {},
   "source": [
    "# LinearSVC"
   ]
  },
  {
   "cell_type": "code",
   "execution_count": 100,
   "id": "6276201d",
   "metadata": {},
   "outputs": [
    {
     "data": {
      "text/html": [
       "<style>#sk-container-id-4 {color: black;background-color: white;}#sk-container-id-4 pre{padding: 0;}#sk-container-id-4 div.sk-toggleable {background-color: white;}#sk-container-id-4 label.sk-toggleable__label {cursor: pointer;display: block;width: 100%;margin-bottom: 0;padding: 0.3em;box-sizing: border-box;text-align: center;}#sk-container-id-4 label.sk-toggleable__label-arrow:before {content: \"▸\";float: left;margin-right: 0.25em;color: #696969;}#sk-container-id-4 label.sk-toggleable__label-arrow:hover:before {color: black;}#sk-container-id-4 div.sk-estimator:hover label.sk-toggleable__label-arrow:before {color: black;}#sk-container-id-4 div.sk-toggleable__content {max-height: 0;max-width: 0;overflow: hidden;text-align: left;background-color: #f0f8ff;}#sk-container-id-4 div.sk-toggleable__content pre {margin: 0.2em;color: black;border-radius: 0.25em;background-color: #f0f8ff;}#sk-container-id-4 input.sk-toggleable__control:checked~div.sk-toggleable__content {max-height: 200px;max-width: 100%;overflow: auto;}#sk-container-id-4 input.sk-toggleable__control:checked~label.sk-toggleable__label-arrow:before {content: \"▾\";}#sk-container-id-4 div.sk-estimator input.sk-toggleable__control:checked~label.sk-toggleable__label {background-color: #d4ebff;}#sk-container-id-4 div.sk-label input.sk-toggleable__control:checked~label.sk-toggleable__label {background-color: #d4ebff;}#sk-container-id-4 input.sk-hidden--visually {border: 0;clip: rect(1px 1px 1px 1px);clip: rect(1px, 1px, 1px, 1px);height: 1px;margin: -1px;overflow: hidden;padding: 0;position: absolute;width: 1px;}#sk-container-id-4 div.sk-estimator {font-family: monospace;background-color: #f0f8ff;border: 1px dotted black;border-radius: 0.25em;box-sizing: border-box;margin-bottom: 0.5em;}#sk-container-id-4 div.sk-estimator:hover {background-color: #d4ebff;}#sk-container-id-4 div.sk-parallel-item::after {content: \"\";width: 100%;border-bottom: 1px solid gray;flex-grow: 1;}#sk-container-id-4 div.sk-label:hover label.sk-toggleable__label {background-color: #d4ebff;}#sk-container-id-4 div.sk-serial::before {content: \"\";position: absolute;border-left: 1px solid gray;box-sizing: border-box;top: 0;bottom: 0;left: 50%;z-index: 0;}#sk-container-id-4 div.sk-serial {display: flex;flex-direction: column;align-items: center;background-color: white;padding-right: 0.2em;padding-left: 0.2em;position: relative;}#sk-container-id-4 div.sk-item {position: relative;z-index: 1;}#sk-container-id-4 div.sk-parallel {display: flex;align-items: stretch;justify-content: center;background-color: white;position: relative;}#sk-container-id-4 div.sk-item::before, #sk-container-id-4 div.sk-parallel-item::before {content: \"\";position: absolute;border-left: 1px solid gray;box-sizing: border-box;top: 0;bottom: 0;left: 50%;z-index: -1;}#sk-container-id-4 div.sk-parallel-item {display: flex;flex-direction: column;z-index: 1;position: relative;background-color: white;}#sk-container-id-4 div.sk-parallel-item:first-child::after {align-self: flex-end;width: 50%;}#sk-container-id-4 div.sk-parallel-item:last-child::after {align-self: flex-start;width: 50%;}#sk-container-id-4 div.sk-parallel-item:only-child::after {width: 0;}#sk-container-id-4 div.sk-dashed-wrapped {border: 1px dashed gray;margin: 0 0.4em 0.5em 0.4em;box-sizing: border-box;padding-bottom: 0.4em;background-color: white;}#sk-container-id-4 div.sk-label label {font-family: monospace;font-weight: bold;display: inline-block;line-height: 1.2em;}#sk-container-id-4 div.sk-label-container {text-align: center;}#sk-container-id-4 div.sk-container {/* jupyter's `normalize.less` sets `[hidden] { display: none; }` but bootstrap.min.css set `[hidden] { display: none !important; }` so we also need the `!important` here to be able to override the default hidden behavior on the sphinx rendered scikit-learn.org. See: https://github.com/scikit-learn/scikit-learn/issues/21755 */display: inline-block !important;position: relative;}#sk-container-id-4 div.sk-text-repr-fallback {display: none;}</style><div id=\"sk-container-id-4\" class=\"sk-top-container\"><div class=\"sk-text-repr-fallback\"><pre>LinearSVC()</pre><b>In a Jupyter environment, please rerun this cell to show the HTML representation or trust the notebook. <br />On GitHub, the HTML representation is unable to render, please try loading this page with nbviewer.org.</b></div><div class=\"sk-container\" hidden><div class=\"sk-item\"><div class=\"sk-estimator sk-toggleable\"><input class=\"sk-toggleable__control sk-hidden--visually\" id=\"sk-estimator-id-4\" type=\"checkbox\" checked><label for=\"sk-estimator-id-4\" class=\"sk-toggleable__label sk-toggleable__label-arrow\">LinearSVC</label><div class=\"sk-toggleable__content\"><pre>LinearSVC()</pre></div></div></div></div></div>"
      ],
      "text/plain": [
       "LinearSVC()"
      ]
     },
     "execution_count": 100,
     "metadata": {},
     "output_type": "execute_result"
    }
   ],
   "source": [
    "svc_model=grid.best_estimator_ #model tuned wth best params from above\n",
    "svc_model"
   ]
  },
  {
   "cell_type": "code",
   "execution_count": 101,
   "id": "4335bf79",
   "metadata": {},
   "outputs": [],
   "source": [
    "svc_model.fit(X_train, y_train)\n",
    "y_pred_m = svc_model.predict(X_test)"
   ]
  },
  {
   "cell_type": "code",
   "execution_count": 77,
   "id": "8d50765a",
   "metadata": {},
   "outputs": [
    {
     "data": {
      "text/plain": [
       "3555248     5\n",
       "307532      8\n",
       "2327800     4\n",
       "2824375    11\n",
       "455926      4\n",
       "           ..\n",
       "3588243     4\n",
       "2858351    11\n",
       "3495649     4\n",
       "1833313     3\n",
       "2321189     4\n",
       "Name: Product_id, Length: 2500, dtype: int32"
      ]
     },
     "execution_count": 77,
     "metadata": {},
     "output_type": "execute_result"
    }
   ],
   "source": [
    "y_test"
   ]
  },
  {
   "cell_type": "code",
   "execution_count": 102,
   "id": "ed187657",
   "metadata": {},
   "outputs": [
    {
     "name": "stdout",
     "output_type": "stream",
     "text": [
      "                                                    precision    recall  f1-score   support\n",
      "\n",
      "                           Bank account or service       0.33      0.04      0.08        23\n",
      "                       Checking or savings account       0.66      0.72      0.69       122\n",
      "                                     Consumer Loan       0.67      0.11      0.18        19\n",
      "                       Credit card or prepaid card       0.69      0.73      0.71       247\n",
      "         Credit reporting, credit repair, or other       0.85      0.89      0.87      1218\n",
      "                                   Debt collection       0.75      0.72      0.74       437\n",
      "Money transfer, virtual currency, or money service       0.88      0.57      0.69        53\n",
      "                                   Money transfers       0.00      0.00      0.00         1\n",
      "                                          Mortgage       0.83      0.90      0.86       217\n",
      "         Payday loan, title loan, or personal loan       0.56      0.17      0.26        30\n",
      "                                      Student loan       0.80      0.76      0.78        74\n",
      "                             Vehicle loan or lease       0.62      0.44      0.51        59\n",
      "\n",
      "                                          accuracy                           0.80      2500\n",
      "                                         macro avg       0.64      0.50      0.53      2500\n",
      "                                      weighted avg       0.79      0.80      0.79      2500\n",
      "\n"
     ]
    }
   ],
   "source": [
    "print(metrics.classification_report(y_test, y_pred_m))"
   ]
  },
  {
   "cell_type": "code",
   "execution_count": 103,
   "id": "00a5e83e",
   "metadata": {},
   "outputs": [
    {
     "data": {
      "text/plain": [
       "<Axes: >"
      ]
     },
     "execution_count": 103,
     "metadata": {},
     "output_type": "execute_result"
    },
    {
     "data": {
      "image/png": "[encoded data removed]",
      "text/plain": [
       "<Figure size 640x480 with 2 Axes>"
      ]
     },
     "metadata": {},
     "output_type": "display_data"
    }
   ],
   "source": [
    "conf_mat=metrics.confusion_matrix(y_test, y_pred_m)\n",
    "sns.heatmap(conf_mat, annot=True,cmap=\"Blues\",fmt='d')"
   ]
  },
  {
   "cell_type": "code",
   "execution_count": 104,
   "id": "136a212d",
   "metadata": {},
   "outputs": [],
   "source": [
    "complaint = \"\"\"I have been enrolled back at XXXX XXXX University in the XX/XX/XXXX. Recently, i have been harassed by \\\n",
    "Navient for the last month. I have faxed in paperwork providing them with everything they needed. And yet I am still getting \\\n",
    "phone calls for payments. Furthermore, Navient is now reporting to the credit bureaus that I am late. At this point, \\\n",
    "Navient needs to get their act together to avoid me taking further action. I have been enrolled the entire time and my \\\n",
    "deferment should be valid with my planned graduation date being the XX/XX/XXXX.\"\"\"\n"
   ]
  },
  {
   "cell_type": "code",
   "execution_count": 106,
   "id": "88467f80",
   "metadata": {},
   "outputs": [
    {
     "data": {
      "text/html": [
       "<div>\n",
       "<style scoped>\n",
       "    .dataframe tbody tr th:only-of-type {\n",
       "        vertical-align: middle;\n",
       "    }\n",
       "\n",
       "    .dataframe tbody tr th {\n",
       "        vertical-align: top;\n",
       "    }\n",
       "\n",
       "    .dataframe thead th {\n",
       "        text-align: right;\n",
       "    }\n",
       "</style>\n",
       "<table border=\"1\" class=\"dataframe\">\n",
       "  <thead>\n",
       "    <tr style=\"text-align: right;\">\n",
       "      <th></th>\n",
       "      <th>Product</th>\n",
       "    </tr>\n",
       "    <tr>\n",
       "      <th>Id</th>\n",
       "      <th></th>\n",
       "    </tr>\n",
       "  </thead>\n",
       "  <tbody>\n",
       "    <tr>\n",
       "      <th>0</th>\n",
       "      <td>Bank account or service</td>\n",
       "    </tr>\n",
       "    <tr>\n",
       "      <th>1</th>\n",
       "      <td>Checking or savings account</td>\n",
       "    </tr>\n",
       "    <tr>\n",
       "      <th>2</th>\n",
       "      <td>Consumer Loan</td>\n",
       "    </tr>\n",
       "    <tr>\n",
       "      <th>3</th>\n",
       "      <td>Credit card or prepaid card</td>\n",
       "    </tr>\n",
       "    <tr>\n",
       "      <th>4</th>\n",
       "      <td>Credit reporting, credit repair, or other</td>\n",
       "    </tr>\n",
       "    <tr>\n",
       "      <th>5</th>\n",
       "      <td>Debt collection</td>\n",
       "    </tr>\n",
       "    <tr>\n",
       "      <th>6</th>\n",
       "      <td>Money transfer, virtual currency, or money ser...</td>\n",
       "    </tr>\n",
       "    <tr>\n",
       "      <th>7</th>\n",
       "      <td>Money transfers</td>\n",
       "    </tr>\n",
       "    <tr>\n",
       "      <th>8</th>\n",
       "      <td>Mortgage</td>\n",
       "    </tr>\n",
       "    <tr>\n",
       "      <th>9</th>\n",
       "      <td>Other financial service</td>\n",
       "    </tr>\n",
       "    <tr>\n",
       "      <th>10</th>\n",
       "      <td>Payday loan, title loan, or personal loan</td>\n",
       "    </tr>\n",
       "    <tr>\n",
       "      <th>11</th>\n",
       "      <td>Student loan</td>\n",
       "    </tr>\n",
       "    <tr>\n",
       "      <th>12</th>\n",
       "      <td>Vehicle loan or lease</td>\n",
       "    </tr>\n",
       "  </tbody>\n",
       "</table>\n",
       "</div>"
      ],
      "text/plain": [
       "                                              Product\n",
       "Id                                                   \n",
       "0                             Bank account or service\n",
       "1                         Checking or savings account\n",
       "2                                       Consumer Loan\n",
       "3                         Credit card or prepaid card\n",
       "4           Credit reporting, credit repair, or other\n",
       "5                                     Debt collection\n",
       "6   Money transfer, virtual currency, or money ser...\n",
       "7                                     Money transfers\n",
       "8                                            Mortgage\n",
       "9                             Other financial service\n",
       "10          Payday loan, title loan, or personal loan\n",
       "11                                       Student loan\n",
       "12                              Vehicle loan or lease"
      ]
     },
     "execution_count": 106,
     "metadata": {},
     "output_type": "execute_result"
    }
   ],
   "source": [
    "df_prod"
   ]
  },
  {
   "cell_type": "code",
   "execution_count": 127,
   "id": "fc4e4349",
   "metadata": {},
   "outputs": [
    {
     "name": "stdout",
     "output_type": "stream",
     "text": [
      "Student loan\n"
     ]
    }
   ],
   "source": [
    "new_matrix = tf.transform([complaint])  #for testing\n",
    "p=svc_model.predict(new_matrix)\n",
    "result=\" \".join(p)\n",
    "print(result)\n",
    "\n",
    "\n",
    "\n"
   ]
  },
  {
   "cell_type": "markdown",
   "id": "5f1a7803",
   "metadata": {},
   "source": [
    "So the model is predicting good results."
   ]
  },
  {
   "cell_type": "code",
   "execution_count": 128,
   "id": "59b1f1e5",
   "metadata": {},
   "outputs": [],
   "source": [
    "with open('model_get_product.pkl', 'wb') as file:\n",
    "    pickle.dump(svc_model, file)#saving model into pickle file"
   ]
  },
  {
   "cell_type": "code",
   "execution_count": 129,
   "id": "13167562",
   "metadata": {},
   "outputs": [],
   "source": [
    "def classify_product(complaint,model_path='model_get_product.pkl'):#main function to classify product on basis of complaints\n",
    "    try:\n",
    "            \n",
    "        model=pickle.load(open(model_path, 'rb'))   #load saved svc model\n",
    "        new_tfidf_matrix = tf.transform([complaint])#tfidf vectoriser transformed above\n",
    "        prod_id=model.predict(new_tfidf_matrix)\n",
    "        product=\" \".join(prod_id)\n",
    "        return product\n",
    "    \n",
    "    except Exception as e:\n",
    "        print(\"Error:\", str(e))\n",
    "        return None"
   ]
  },
  {
   "cell_type": "code",
   "execution_count": 130,
   "id": "1cf96198",
   "metadata": {},
   "outputs": [
    {
     "data": {
      "text/plain": [
       "'Credit reporting, credit repair, or other'"
      ]
     },
     "execution_count": 130,
     "metadata": {},
     "output_type": "execute_result"
    }
   ],
   "source": [
    "comp=\"\"\"Equifax exposed my personal information without my consent, as part of their recent data breach. \\\n",
    "In addition, they dragged their feet in the announcement of the report, and even allowed their upper management to sell \\\n",
    "off stock before the announcement.\"\"\"\n",
    "classify_product(comp)"
   ]
  },
  {
   "cell_type": "markdown",
   "id": "3d1ee1b0",
   "metadata": {},
   "source": [
    "# CNN model"
   ]
  },
  {
   "cell_type": "code",
   "execution_count": 168,
   "id": "5702e4cf",
   "metadata": {},
   "outputs": [],
   "source": [
    "X_c=data['Consumer complaint narrative']\n",
    "y_c=data[\"Product_id\"]"
   ]
  },
  {
   "cell_type": "markdown",
   "id": "57ae5af0",
   "metadata": {},
   "source": [
    "For deep learning model i have taken just Consumer Complaint narrative as X column."
   ]
  },
  {
   "cell_type": "code",
   "execution_count": 169,
   "id": "f65fe7d1",
   "metadata": {},
   "outputs": [],
   "source": [
    "X_train_cn, X_test_cn, y_train_cn, y_test_cn = train_test_split(X_c,y_c, test_size=0.25)\n",
    "\n"
   ]
  },
  {
   "cell_type": "code",
   "execution_count": 170,
   "id": "b77ab8f0",
   "metadata": {},
   "outputs": [],
   "source": [
    "tokenizer = tensor.keras.preprocessing.text.Tokenizer(num_words=10000)\n",
    "tokenizer.fit_on_texts(X_train_cn)\n",
    "X_train_cnn = tokenizer.texts_to_sequences(X_train_cn)\n",
    "X_test_cnn = tokenizer.texts_to_sequences(X_test_cn)\n"
   ]
  },
  {
   "cell_type": "code",
   "execution_count": 171,
   "id": "0c5574c7",
   "metadata": {},
   "outputs": [],
   "source": [
    "from tensorflow.keras.preprocessing.sequence import pad_sequences\n",
    "maxlen = 100\n",
    "X_train_padded = pad_sequences(X_train_cnn, maxlen=maxlen)\n",
    "X_test_padded = pad_sequences(X_test_cnn, maxlen=maxlen)\n",
    "\n",
    "\n"
   ]
  },
  {
   "cell_type": "code",
   "execution_count": 172,
   "id": "04e4de92",
   "metadata": {},
   "outputs": [
    {
     "data": {
      "text/plain": [
       "(7500, 100)"
      ]
     },
     "execution_count": 172,
     "metadata": {},
     "output_type": "execute_result"
    }
   ],
   "source": [
    "X_train_padded.shape"
   ]
  },
  {
   "cell_type": "code",
   "execution_count": 173,
   "id": "b9ab385c",
   "metadata": {},
   "outputs": [
    {
     "data": {
      "text/plain": [
       "(2500, 100)"
      ]
     },
     "execution_count": 173,
     "metadata": {},
     "output_type": "execute_result"
    }
   ],
   "source": [
    "X_test_padded.shape"
   ]
  },
  {
   "cell_type": "code",
   "execution_count": 174,
   "id": "7c30a30f",
   "metadata": {},
   "outputs": [],
   "source": [
    "# Create a CNN model\n",
    "model = tensor.keras.Sequential([\n",
    "    tensor.keras.layers.Embedding(input_dim=10000, output_dim=128),#embedding layer\n",
    "    tensor.keras.layers.Conv1D(filters=128, kernel_size=9, activation='relu'),  #convultion\n",
    "    tensor.keras.layers.MaxPooling1D(pool_size=2),  #pooling layer\n",
    "    tensor.keras.layers.GlobalMaxPooling1D(),\n",
    "    tensor.keras.layers.Flatten(),#flattening \n",
    "    tensor.keras.layers.Dense(128, activation='relu'),\n",
    "    tensor.keras.layers.Dropout(0.1),#dropout layer to add regularisation\n",
    "    tensor.keras.layers.Dense(13, activation='softmax')#softmax is the activation unit in output layer with 13 units\n",
    "])\n"
   ]
  },
  {
   "cell_type": "code",
   "execution_count": 175,
   "id": "d56e0111",
   "metadata": {},
   "outputs": [
    {
     "name": "stdout",
     "output_type": "stream",
     "text": [
      "Model: \"sequential_2\"\n",
      "_________________________________________________________________\n",
      " Layer (type)                Output Shape              Param #   \n",
      "=================================================================\n",
      " embedding_2 (Embedding)     (None, None, 128)         1280000   \n",
      "                                                                 \n",
      " conv1d_2 (Conv1D)           (None, None, 128)         147584    \n",
      "                                                                 \n",
      " max_pooling1d_2 (MaxPoolin  (None, None, 128)         0         \n",
      " g1D)                                                            \n",
      "                                                                 \n",
      " global_max_pooling1d_2 (Gl  (None, 128)               0         \n",
      " obalMaxPooling1D)                                               \n",
      "                                                                 \n",
      " flatten_2 (Flatten)         (None, 128)               0         \n",
      "                                                                 \n",
      " dense_4 (Dense)             (None, 128)               16512     \n",
      "                                                                 \n",
      " dropout_2 (Dropout)         (None, 128)               0         \n",
      "                                                                 \n",
      " dense_5 (Dense)             (None, 13)                1677      \n",
      "                                                                 \n",
      "=================================================================\n",
      "Total params: 1445773 (5.52 MB)\n",
      "Trainable params: 1445773 (5.52 MB)\n",
      "Non-trainable params: 0 (0.00 Byte)\n",
      "_________________________________________________________________\n"
     ]
    }
   ],
   "source": [
    "model.compile(optimizer=\"adam\", loss='categorical_crossentropy', metrics=['accuracy'])\n",
    "model.summary()"
   ]
  },
  {
   "cell_type": "code",
   "execution_count": 176,
   "id": "6be3d9ae",
   "metadata": {},
   "outputs": [
    {
     "name": "stdout",
     "output_type": "stream",
     "text": [
      "Epoch 1/10\n",
      "235/235 [==============================] - 8s 29ms/step - loss: 1.3922 - accuracy: 0.5655\n",
      "Epoch 2/10\n",
      "235/235 [==============================] - 7s 29ms/step - loss: 0.8848 - accuracy: 0.7207\n",
      "Epoch 3/10\n",
      "235/235 [==============================] - 7s 28ms/step - loss: 0.5865 - accuracy: 0.8167\n",
      "Epoch 4/10\n",
      "235/235 [==============================] - 7s 28ms/step - loss: 0.3208 - accuracy: 0.9097\n",
      "Epoch 5/10\n",
      "235/235 [==============================] - 7s 28ms/step - loss: 0.1628 - accuracy: 0.9576\n",
      "Epoch 6/10\n",
      "235/235 [==============================] - 7s 29ms/step - loss: 0.0886 - accuracy: 0.9837\n",
      "Epoch 7/10\n",
      "235/235 [==============================] - 7s 29ms/step - loss: 0.0489 - accuracy: 0.9937\n",
      "Epoch 8/10\n",
      "235/235 [==============================] - 7s 30ms/step - loss: 0.0356 - accuracy: 0.9955\n",
      "Epoch 9/10\n",
      "235/235 [==============================] - 9s 40ms/step - loss: 0.0199 - accuracy: 0.9971\n",
      "Epoch 10/10\n",
      "235/235 [==============================] - 14s 62ms/step - loss: 0.0216 - accuracy: 0.9969\n"
     ]
    }
   ],
   "source": [
    "from tensorflow.keras.utils import to_categorical \n",
    "y_train_cnn_encoded = to_categorical(y_train_cn, num_classes=13)\n",
    "history=model.fit(X_train_padded, y_train_cnn_encoded, epochs=10)\n",
    "\n",
    "\n"
   ]
  },
  {
   "cell_type": "code",
   "execution_count": 177,
   "id": "06a4214b",
   "metadata": {},
   "outputs": [],
   "source": [
    "from tensorflow.keras.utils import to_categorical \n",
    "y_test_cnn_encoded = to_categorical(y_test_cn, num_classes=13)\n"
   ]
  },
  {
   "cell_type": "code",
   "execution_count": 178,
   "id": "c0f9cacd",
   "metadata": {},
   "outputs": [
    {
     "name": "stdout",
     "output_type": "stream",
     "text": [
      "79/79 [==============================] - 1s 12ms/step - loss: 1.2549 - accuracy: 0.7428\n",
      "Accuracy 74.27999973297119\n"
     ]
    }
   ],
   "source": [
    "# Evaluate the model\n",
    "loss, accuracy =model.evaluate(X_test_padded, y_test_cnn_encoded)\n",
    "print(\"Accuracy\",accuracy*100)"
   ]
  },
  {
   "cell_type": "code",
   "execution_count": 179,
   "id": "1d61df39",
   "metadata": {},
   "outputs": [
    {
     "name": "stdout",
     "output_type": "stream",
     "text": [
      "79/79 [==============================] - 1s 6ms/step\n"
     ]
    },
    {
     "data": {
      "text/plain": [
       "(2500, 13)"
      ]
     },
     "execution_count": 179,
     "metadata": {},
     "output_type": "execute_result"
    }
   ],
   "source": [
    "pred_cnn=model.predict(X_test_padded)\n",
    "pred_cnn.shape\n"
   ]
  },
  {
   "cell_type": "code",
   "execution_count": null,
   "id": "1792b6fa",
   "metadata": {},
   "outputs": [],
   "source": []
  },
  {
   "cell_type": "code",
   "execution_count": 180,
   "id": "de7398c5",
   "metadata": {},
   "outputs": [],
   "source": [
    "complaint =\"\"\"Equifax exposed my personal information without my consent, as part of their recent data breach. \\\n",
    "In addition, they dragged their feet in the announcement of the report, and even allowed their upper management to sell \\\n",
    "off stock before the announcement.\"\"\"\n"
   ]
  },
  {
   "cell_type": "code",
   "execution_count": 182,
   "id": "221ee5b2",
   "metadata": {},
   "outputs": [],
   "source": [
    "tokenizer = tensor.keras.preprocessing.text.Tokenizer(num_words=10000)\n",
    "tokenizer.fit_on_texts([complaint])\n",
    "text_seq= tokenizer.texts_to_sequences(complaint)\n",
    "padded_seq=pad_sequences(text_seq, maxlen=100)"
   ]
  },
  {
   "cell_type": "code",
   "execution_count": 181,
   "id": "34a9629f",
   "metadata": {},
   "outputs": [
    {
     "data": {
      "text/plain": [
       "['Bank account or service',\n",
       " 'Checking or savings account',\n",
       " 'Consumer Loan',\n",
       " 'Credit card or prepaid card',\n",
       " 'Credit reporting, credit repair, or other',\n",
       " 'Debt collection',\n",
       " 'Money transfer, virtual currency, or money service',\n",
       " 'Money transfers',\n",
       " 'Mortgage',\n",
       " 'Other financial service',\n",
       " 'Payday loan, title loan, or personal loan',\n",
       " 'Student loan',\n",
       " 'Vehicle loan or lease']"
      ]
     },
     "execution_count": 181,
     "metadata": {},
     "output_type": "execute_result"
    }
   ],
   "source": [
    "sorted(prod_dict.keys())"
   ]
  },
  {
   "cell_type": "code",
   "execution_count": 183,
   "id": "52065099",
   "metadata": {},
   "outputs": [
    {
     "name": "stdout",
     "output_type": "stream",
     "text": [
      "8/8 [==============================] - 0s 7ms/step\n",
      "Predicted class: Credit reporting, credit repair, or other\n"
     ]
    }
   ],
   "source": [
    "pred=model.predict(padded_seq)\n",
    "\n",
    "class_labels =['Bank account or service',\n",
    " 'Checking or savings account',\n",
    " 'Consumer Loan',\n",
    " 'Credit card or prepaid card',\n",
    " 'Credit reporting, credit repair, or other',\n",
    " 'Debt collection',\n",
    " 'Money transfer, virtual currency, or money service',\n",
    " 'Money transfers',\n",
    " 'Mortgage',\n",
    " 'Other financial service',\n",
    " 'Payday loan, title loan, or personal loan',\n",
    " 'Student loan',\n",
    " 'Vehicle loan or lease']\n",
    "\n",
    "# List of class labels used during training\n",
    "predicted_index = tensor.argmax(pred, axis=1).numpy()[0]\n",
    "# print(predicted_index)\n",
    "predicted_class_label = class_labels[predicted_index]\n",
    "\n",
    "print(\"Predicted class:\", predicted_class_label)"
   ]
  },
  {
   "cell_type": "markdown",
   "id": "f39af2e2",
   "metadata": {},
   "source": [
    "I have just used CNN model here as assignment task.Main model would be LinearSVC as above."
   ]
  },
  {
   "cell_type": "code",
   "execution_count": null,
   "id": "3c7c35c3",
   "metadata": {},
   "outputs": [],
   "source": []
  }
 ],
 "metadata": {
  "kernelspec": {
   "display_name": "Python 3 (ipykernel)",
   "language": "python",
   "name": "python3"
  },
  "language_info": {
   "codemirror_mode": {
    "name": "ipython",
    "version": 3
   },
   "file_extension": ".py",
   "mimetype": "text/x-python",
   "name": "python",
   "nbconvert_exporter": "python",
   "pygments_lexer": "ipython3",
   "version": "3.10.9"
  }
 },
 "nbformat": 4,
 "nbformat_minor": 5
}
